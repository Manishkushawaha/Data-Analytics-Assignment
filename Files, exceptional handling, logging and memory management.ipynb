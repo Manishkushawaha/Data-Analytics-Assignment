{
 "cells": [
  {
   "cell_type": "markdown",
   "id": "37bda5c3-8ec0-41e8-927f-c9fc0fe4236b",
   "metadata": {},
   "source": [
    "### Files, exceptional handling, logging and memory management Questions"
   ]
  },
  {
   "cell_type": "markdown",
   "id": "8b47f54d-2eb7-4602-9437-16090dad44fb",
   "metadata": {},
   "source": [
    "**Q1. What is the difference between interpreted and compiled languages?**  \n",
    "    \n",
    "- **Interpreted Languages** → Code is executed line by line (e.g., Python, JavaScript).  \n",
    "- **Compiled Languages** → Code is first converted into machine code, then executed (e.g., C, C++).  \n",
    "\n",
    "---\n",
    "\n",
    "**Q2. What is exception handling in Python?**  \n",
    "    \n",
    "Exception handling allows you to handle runtime errors gracefully using `try`, `except`, `else`, and `finally` blocks.\n",
    "\n",
    "---\n",
    "\n",
    "**Q3. What is the purpose of the finally block in exception handling?**  \n",
    "    \n",
    "The `finally` block is **always executed**, regardless of whether an exception occurred. It is often used to release resources (e.g., closing files, database connections).\n",
    "\n",
    "---\n",
    "\n",
    "**Q4. What is logging in Python?**  \n",
    "\n",
    "Logging is used to **track events** that happen when a program runs. It helps in debugging and monitoring applications.\n",
    "\n",
    "---\n",
    "\n",
    "**Q5. What is the significance of the `__del__` method in Python?**  \n",
    "\n",
    "- `__del__` is a **destructor method** called when an object is deleted or garbage collected.  \n",
    "- It is mainly used to release external resources.\n",
    "\n",
    "---\n",
    "\n",
    "**Q6. What is the difference between `import` and `from ... import` in Python?**  \n",
    "\n",
    "- `import module` → Imports the entire module.  \n",
    "- `from module import func` → Imports only a specific function/class from the module.\n",
    "\n",
    "---\n",
    "\n",
    "**Q7. How can you handle multiple exceptions in Python?**  \n",
    "You can use multiple `except` blocks or a tuple of exceptions:  \n",
    "\n",
    "```python\n",
    "try:\n",
    "    x = 1 / 0\n",
    "except (ZeroDivisionError, ValueError) as e:\n",
    "    print(\"Error:\", e)\n"
   ]
  },
  {
   "cell_type": "markdown",
   "id": "20746f10-20c5-4543-899b-44b897cf2fec",
   "metadata": {},
   "source": [
    "---\n",
    "**Q8. What is the purpose of the `with` statement when handling files in Python?**  \n",
    "\n",
    "- The **`with` statement** is used to **open files safely** and ensures they are **automatically closed** after the block of code is executed.  \n",
    "- It helps in **resource management** and prevents memory leaks.  \n",
    "\n",
    "**Example:** \n"
   ]
  },
  {
   "cell_type": "code",
   "execution_count": 1,
   "id": "3f718f3a-a053-4e93-980c-d71ae9636149",
   "metadata": {},
   "outputs": [],
   "source": [
    "with open(\"example.txt\", \"w\") as f:\n",
    "    \n",
    "    f.write(\"Hello, Python!\")\n"
   ]
  },
  {
   "cell_type": "markdown",
   "id": "ca2dca59-bf5f-46bf-a153-f9bcced2fe10",
   "metadata": {},
   "source": [
    "**9. What is the difference between multithreading and multiprocessing?**"
   ]
  },
  {
   "cell_type": "markdown",
   "id": "8bcebb0e-8ff5-429d-8689-ee3fcab3b06c",
   "metadata": {},
   "source": [
    "| **Aspect**            | **Multithreading** 🧵                                                                                           | **Multiprocessing** 🖥️                                                                               |\n",
    "| --------------------- | --------------------------------------------------------------------------------------------------------------- | ----------------------------------------------------------------------------------------------------- |\n",
    "| **Definition**        | Runs **multiple threads** (lightweight sub-processes) within the **same process**.                              | Runs **multiple processes**, each with its own memory and resources.                                  |\n",
    "| **Memory Sharing**    | Threads share the **same memory space** → easy communication but risk of **data corruption (race conditions)**. | Each process has its **own memory space** → safer but requires **inter-process communication (IPC)**. |\n",
    "| **Speed**             | Faster context switching (lightweight).                                                                         | Slower context switching (heavier).                                                                   |\n",
    "| **Best for**          | **I/O-bound tasks** (file handling, network requests, web scraping).                                            | **CPU-bound tasks** (data processing, ML model training, calculations).                               |\n",
    "| **Failure Impact**    | If one thread crashes, it may bring down the entire process.                                                    | If one process crashes, others can still run independently.                                           |\n",
    "| **Python Limitation** | Affected by the **Global Interpreter Lock (GIL)** – only one thread executes Python bytecode at a time.         | Bypasses GIL → can achieve **true parallelism**.                                                      |\n",
    "| **Example Use Cases** | Chat applications, web servers, handling multiple requests.                                                     | Image processing, machine learning training, data analysis.                                           |\n"
   ]
  },
  {
   "cell_type": "markdown",
   "id": "883ac59f-d90a-40ba-be23-f7cc7a1afb01",
   "metadata": {},
   "source": [
    "**10. What are the advantages of using logging in a program?**\n",
    "\n",
    "Logging is the process of recording events, messages, or errors while a program runs.\n",
    "\n",
    "**Advantages:**\n",
    "\n",
    "* **🛠 Debugging aid →** Helps trace errors and unexpected behavior.\n",
    "\n",
    "* **📊 Performance monitoring →** Logs can show bottlenecks and runtime issues.\n",
    "\n",
    "* **📂 Persistent records →** Keeps history of events for future analysis.\n",
    "\n",
    "* **⚠ Error tracking →** Provides detailed error info instead of just showing print statements.\n",
    "\n",
    "* **🔍 Audit & security →** Useful for auditing user actions and system activity.\n",
    "\n",
    "* **📈 Production readiness →** Logging can run silently without interrupting execution, unlike print()."
   ]
  },
  {
   "cell_type": "markdown",
   "id": "193e9ca7-3ba1-409b-a233-917361360011",
   "metadata": {},
   "source": [
    "**11. What is memory management in Python?**\n",
    "\n",
    "Memory management in Python refers to how Python handles allocation and deallocation of memory for objects and data structures.\n",
    "\n",
    "* Python uses a private heap space where all objects are stored.\n",
    "\n",
    "* The Python memory manager allocates memory for objects automatically.\n",
    "\n",
    "* Garbage Collector (GC) cleans up unused objects using reference counting + generational garbage collection."
   ]
  },
  {
   "cell_type": "markdown",
   "id": "6fc8fb4a-ad76-42f2-83d7-4fe05a235ef3",
   "metadata": {},
   "source": [
    "**12. What are the basic steps involved in exception handling in Python?**\n",
    "\n",
    "Python uses the **try-except-finally** model **for** handling errors.\n",
    "\n",
    "**Steps:**\n",
    "\n",
    "1. try block → Write code that may cause an exception.\n",
    "\n",
    "2. except block → Handle the exception if it occurs.\n",
    "\n",
    "3. else block (optional) → Runs if no exception occurs.\n",
    "\n",
    "4. finally block (optional) → Always runs (cleanup operations).\n",
    "\n",
    "**Example:**"
   ]
  },
  {
   "cell_type": "code",
   "execution_count": 1,
   "id": "c488e762-6cda-4529-ada8-18df4f1477d5",
   "metadata": {},
   "outputs": [
    {
     "name": "stdin",
     "output_type": "stream",
     "text": [
      "Enter a number:  24\n"
     ]
    },
    {
     "name": "stdout",
     "output_type": "stream",
     "text": [
      "0.4166666666666667\n",
      "No exception occurred.\n",
      "Execution finished.\n"
     ]
    }
   ],
   "source": [
    "try:\n",
    "    num = int(input(\"Enter a number: \"))\n",
    "    print(10 / num)\n",
    "except ZeroDivisionError:\n",
    "    print(\"Cannot divide by zero!\")\n",
    "except ValueError:\n",
    "    print(\"Invalid input! Enter a number.\")\n",
    "else:\n",
    "    print(\"No exception occurred.\")\n",
    "finally:\n",
    "    print(\"Execution finished.\")\n"
   ]
  },
  {
   "cell_type": "markdown",
   "id": "1130d7f6-80d5-4678-9212-1cb88eb980a6",
   "metadata": {},
   "source": [
    "**13. Why is memory management important in Python?**\n",
    "\n",
    "**Memory management is crucial because:**\n",
    "\n",
    "* **⚡ Optimizes performance →** Avoids unnecessary memory usage.\n",
    "\n",
    "* **🧹 Prevents memory leaks →** Ensures unused objects are released.\n",
    "\n",
    "* **🛡 Ensures program stability →** Prevents crashes due to memory exhaustion.\n",
    "\n",
    "* **🔄 Efficient resource usage →** Especially important for large datasets & ML models.\n",
    "\n",
    "* **📈 Scalability →** Helps Python applications run smoothly in production."
   ]
  },
  {
   "cell_type": "markdown",
   "id": "d9b87418-b3dc-4f2a-a30e-e5c0ba7343e9",
   "metadata": {},
   "source": [
    "**14. What is the role of try and except in exception handling?**\n",
    "\n",
    "Python uses try and except blocks to handle runtime errors.\n",
    "\n",
    "**Steps:**\n",
    "\n",
    "**1. try block →** Code that may raise an error.\n",
    "\n",
    "**2. except block →** Handles the error if it occurs.\n",
    "\n",
    "**Example:**"
   ]
  },
  {
   "cell_type": "code",
   "execution_count": 2,
   "id": "557f6f77-f9fa-47cf-8b54-162948006a1e",
   "metadata": {},
   "outputs": [
    {
     "name": "stdout",
     "output_type": "stream",
     "text": [
      "Cannot divide by zero!\n"
     ]
    }
   ],
   "source": [
    "try:\n",
    "    x = 10 / 0\n",
    "except ZeroDivisionError:\n",
    "    print(\"Cannot divide by zero!\")\n"
   ]
  },
  {
   "cell_type": "markdown",
   "id": "915e19a8-d738-452e-80b0-c9d6ffcbf076",
   "metadata": {},
   "source": [
    "**15. How does Python's garbage collection system work?**\n",
    "\n",
    "Python automatically manages memory using a garbage collector (GC).\n",
    "\n",
    "**Key Points:**\n",
    "\n",
    "**1. Reference counting →** Tracks how many references point to an object.\n",
    "\n",
    "**2. Generational GC →** Groups objects by age and collects unused ones.\n",
    "\n",
    "**3. Automatic cleanup →** Frees memory of objects no longer in use.\n",
    "\n",
    "**Example:**"
   ]
  },
  {
   "cell_type": "code",
   "execution_count": 3,
   "id": "d0623e5a-86c5-4b0d-833c-6735439b71ea",
   "metadata": {},
   "outputs": [
    {
     "data": {
      "text/plain": [
       "603"
      ]
     },
     "execution_count": 3,
     "metadata": {},
     "output_type": "execute_result"
    }
   ],
   "source": [
    "import gc\n",
    "gc.collect()  # forces garbage collection\n"
   ]
  },
  {
   "cell_type": "markdown",
   "id": "8238b34c-9729-4901-b97b-38a6eef095af",
   "metadata": {},
   "source": [
    "**16. What is the purpose of the else block in exception handling?**\n",
    "\n",
    "The else block in exception handling runs only if no exception occurs in the try block.\n",
    "\n",
    "**Steps:**\n",
    "\n",
    "**1. try block →** Risky code.\n",
    "\n",
    "**2. except block →** Error handling.\n",
    "\n",
    "**3. else block →** Executes if no error occurs.\n",
    "\n",
    "**Example:**"
   ]
  },
  {
   "cell_type": "code",
   "execution_count": 5,
   "id": "d70ddeb5-5531-41c1-bfc9-1c66cae48fa1",
   "metadata": {},
   "outputs": [
    {
     "name": "stdout",
     "output_type": "stream",
     "text": [
      "5.0\n",
      "No error, code ran successfully.\n"
     ]
    }
   ],
   "source": [
    "try:\n",
    "    num = 5\n",
    "    print(num / 1)\n",
    "except ZeroDivisionError:\n",
    "    print(\"Error occurred!\")\n",
    "else:\n",
    "    print(\"No error, code ran successfully.\")\n"
   ]
  },
  {
   "cell_type": "markdown",
   "id": "8434e8f1-17f0-4318-8d43-32bccb1ff5bf",
   "metadata": {},
   "source": [
    "**17. What are the common logging levels in Python?**\n",
    "\n",
    "Python logging has different levels to indicate severity.\n",
    "\n",
    "**Levels:**\n",
    "\n",
    "**1. DEBUG →** Detailed debugging info.\n",
    "\n",
    "**2. INFO →** General program events.\n",
    "\n",
    "**3. WARNING →** Unexpected event, but program works.\n",
    "\n",
    "**4. ERROR →** Program failed at some part.\n",
    "\n",
    "**5. CRITICAL →** Severe error, program may stop.\n",
    "\n",
    "**Example:**"
   ]
  },
  {
   "cell_type": "code",
   "execution_count": 6,
   "id": "2edd1762-9182-43a0-99a2-77d212163c43",
   "metadata": {},
   "outputs": [
    {
     "name": "stderr",
     "output_type": "stream",
     "text": [
      "DEBUG:root:This is a debug message\n",
      "ERROR:root:This is an error message\n"
     ]
    }
   ],
   "source": [
    "import logging\n",
    "logging.basicConfig(level=logging.DEBUG)\n",
    "logging.debug(\"This is a debug message\")\n",
    "logging.error(\"This is an error message\")\n"
   ]
  },
  {
   "cell_type": "markdown",
   "id": "f6bdf5cc-1994-446e-93a8-741acb9db9f3",
   "metadata": {},
   "source": [
    "**18. What is the difference between os.fork() and multiprocessing in Python?**\n",
    "\n",
    "* **os.fork() →** Creates a new child process by duplicating the current process (works only on Unix/Linux).\n",
    "\n",
    "* **multiprocessing →** A Python module that works on all platforms and provides high-level APIs for parallelism.\n",
    "\n",
    "**Example (multiprocessing):**"
   ]
  },
  {
   "cell_type": "code",
   "execution_count": 7,
   "id": "c7b10f2e-da74-4db6-99bf-06811ee43bf8",
   "metadata": {},
   "outputs": [],
   "source": [
    "from multiprocessing import Process\n",
    "\n",
    "def task():\n",
    "    print(\"Running in a new process\")\n",
    "\n",
    "p = Process(target=task)\n",
    "p.start()\n",
    "p.join()\n"
   ]
  },
  {
   "cell_type": "markdown",
   "id": "bb16e5e0-0586-4868-b0d0-ade3ee8103d8",
   "metadata": {},
   "source": [
    "**19. What is the importance of closing a file in Python?**\n",
    "\n",
    "* Frees system resources.\n",
    "\n",
    "* Ensures data is written to the file properly.\n",
    "\n",
    "* Prevents file corruption.\n",
    "\n",
    "**Example:**"
   ]
  },
  {
   "cell_type": "code",
   "execution_count": 8,
   "id": "c001d218-3f55-4fe9-a197-2f090c959ce7",
   "metadata": {},
   "outputs": [],
   "source": [
    "f = open(\"test.txt\", \"w\")\n",
    "f.write(\"Hello\")\n",
    "f.close()  # important to close\n"
   ]
  },
  {
   "cell_type": "markdown",
   "id": "d56f0b7b-4280-474e-ac78-e7c940f45ec5",
   "metadata": {},
   "source": [
    "**20. What is the difference between file.read() and file.readline() in Python?**\n",
    "\n",
    "* file.read() → Reads the entire file as a string.\n",
    "\n",
    "* file.readline() → Reads one line at a time.\n",
    "\n",
    "**Example:**"
   ]
  },
  {
   "cell_type": "code",
   "execution_count": 9,
   "id": "71d7d1d8-31ad-4921-9211-37af1df0f66b",
   "metadata": {},
   "outputs": [
    {
     "name": "stdout",
     "output_type": "stream",
     "text": [
      "Hello\n",
      "Hello\n"
     ]
    }
   ],
   "source": [
    "f = open(\"test.txt\", \"r\")\n",
    "print(f.read())       # entire file\n",
    "f.seek(0)\n",
    "print(f.readline())   # first line only\n",
    "f.close()\n"
   ]
  },
  {
   "cell_type": "markdown",
   "id": "36dcd70c-c713-4992-8e05-008be4e5b515",
   "metadata": {},
   "source": [
    "**21. What is the logging module in Python used for?**\n",
    "\n",
    "The logging module is used to:\n",
    "\n",
    "* Record debug messages, errors, and warnings.\n",
    "\n",
    "* Track program execution.\n",
    "\n",
    "* Keep log files for future debugging.\n",
    "\n",
    "**Example:**"
   ]
  },
  {
   "cell_type": "code",
   "execution_count": 10,
   "id": "07115204-e925-43db-9840-f026feae7e71",
   "metadata": {},
   "outputs": [
    {
     "name": "stderr",
     "output_type": "stream",
     "text": [
      "INFO:root:This is an info message\n"
     ]
    }
   ],
   "source": [
    "import logging\n",
    "logging.basicConfig(level=logging.INFO)\n",
    "logging.info(\"This is an info message\")\n"
   ]
  },
  {
   "cell_type": "markdown",
   "id": "6bef24f4-5015-424b-addd-30d4454fd107",
   "metadata": {},
   "source": [
    "**22. What is the os module in Python used for in file handling?**\n",
    "\n",
    "The os module provides functions to:\n",
    "\n",
    "* Create, remove, rename files or directories.\n",
    "\n",
    "* Check paths and file existence.\n",
    "\n",
    "* Change working directory.\n",
    "\n",
    "**Example:**"
   ]
  },
  {
   "cell_type": "code",
   "execution_count": 11,
   "id": "aaa2e5b6-e800-4f0b-955f-9cb5026efaba",
   "metadata": {},
   "outputs": [
    {
     "name": "stdout",
     "output_type": "stream",
     "text": [
      "C:\\Users\\DELL\\OneDrive\\Data Analyst course\\Assignment\n"
     ]
    }
   ],
   "source": [
    "import os\n",
    "print(os.getcwd())  # current directory\n",
    "os.mkdir(\"new_folder\")\n"
   ]
  },
  {
   "cell_type": "markdown",
   "id": "10b9f5d1-7cca-4f11-bb52-f03d26ab81d1",
   "metadata": {},
   "source": [
    "**23. What are the challenges associated with memory management in Python?**\n",
    "\n",
    "* Garbage collection overhead.\n",
    "\n",
    "* Memory leaks if objects are not released.\n",
    "\n",
    "* Circular references can delay cleanup.\n",
    "\n",
    "* Large objects/datasets can cause performance issues."
   ]
  },
  {
   "cell_type": "markdown",
   "id": "b365b973-41ff-4e2d-ba18-a44e8f8fd960",
   "metadata": {},
   "source": [
    "**24. How do you raise an exception manually in Python?**\n",
    "\n",
    "Use the raise keyword.\n",
    "\n",
    "**Example:**"
   ]
  },
  {
   "cell_type": "code",
   "execution_count": 13,
   "id": "65bdf3ba-4006-4bb6-9c16-2579a07565c8",
   "metadata": {},
   "outputs": [],
   "source": [
    "x = 1\n",
    "if x < 0:\n",
    "    raise ValueError(\"Negative value not allowed\")\n"
   ]
  },
  {
   "cell_type": "markdown",
   "id": "4a209020-e779-47ba-a068-2e455c908004",
   "metadata": {},
   "source": [
    "**25. Why is it important to use multithreading in certain applications?**\n",
    "\n",
    "* Handles multiple tasks at once (concurrency).\n",
    "\n",
    "* Best for I/O-bound tasks (file handling, network requests).\n",
    "\n",
    "* Improves responsiveness of programs.\n",
    "\n",
    "**Example:**"
   ]
  },
  {
   "cell_type": "code",
   "execution_count": 14,
   "id": "f0ab2252-b599-4fe8-bb2a-3c65f360498c",
   "metadata": {},
   "outputs": [
    {
     "name": "stdout",
     "output_type": "stream",
     "text": [
      "Running a thread\n"
     ]
    }
   ],
   "source": [
    "import threading\n",
    "\n",
    "def task():\n",
    "    print(\"Running a thread\")\n",
    "\n",
    "t = threading.Thread(target=task)\n",
    "t.start()\n",
    "t.join()\n"
   ]
  },
  {
   "cell_type": "markdown",
   "id": "6fcdf2e8-0382-4d55-b772-c6087c4cfe73",
   "metadata": {},
   "source": [
    "### Practical Questions"
   ]
  },
  {
   "cell_type": "markdown",
   "id": "035142b6-c9d5-4f0a-ad10-38dae6f8aa55",
   "metadata": {},
   "source": [
    "**1. How can you open a file for writing in Python and write a string to it?**"
   ]
  },
  {
   "cell_type": "code",
   "execution_count": 15,
   "id": "642c2d53-87e3-45c7-bf73-b0d2294c8467",
   "metadata": {},
   "outputs": [],
   "source": [
    "f = open(\"test.txt\", \"w\")\n",
    "f.write(\"Hello, World!\")\n",
    "f.close()\n"
   ]
  },
  {
   "cell_type": "markdown",
   "id": "78a63a4e-e9e0-4d4a-953a-71ea94bd06e5",
   "metadata": {},
   "source": [
    "**2. Write a Python program to read the contents of a file and print each line.**"
   ]
  },
  {
   "cell_type": "code",
   "execution_count": 16,
   "id": "853a36d8-c59e-4d97-9e9e-370acddb891d",
   "metadata": {},
   "outputs": [
    {
     "name": "stdout",
     "output_type": "stream",
     "text": [
      "Hello, World!\n"
     ]
    }
   ],
   "source": [
    "with open(\"test.txt\", \"r\") as f:\n",
    "    for line in f:\n",
    "        print(line.strip())\n"
   ]
  },
  {
   "cell_type": "markdown",
   "id": "a7f3dc3b-11e8-4882-a1d4-085c78b89e94",
   "metadata": {},
   "source": [
    "**3. How would you handle a case where the file doesn't exist while trying to open it for reading?**"
   ]
  },
  {
   "cell_type": "code",
   "execution_count": 17,
   "id": "69c347d3-7fbf-40a8-966b-46efa0ae5d00",
   "metadata": {},
   "outputs": [
    {
     "name": "stdout",
     "output_type": "stream",
     "text": [
      "File not found!\n"
     ]
    }
   ],
   "source": [
    "try:\n",
    "    f = open(\"nofile.txt\", \"r\")\n",
    "except FileNotFoundError:\n",
    "    print(\"File not found!\")\n"
   ]
  },
  {
   "cell_type": "markdown",
   "id": "85c35bfb-2193-4eb9-8c1a-52cb37a81e1c",
   "metadata": {},
   "source": [
    "**4. Write a Python script that reads from one file and writes its content to another file.**"
   ]
  },
  {
   "cell_type": "code",
   "execution_count": 20,
   "id": "bc71820d-2820-4cfc-be44-a5c23778c643",
   "metadata": {},
   "outputs": [
    {
     "name": "stdout",
     "output_type": "stream",
     "text": [
      "File copied successfully!\n"
     ]
    }
   ],
   "source": [
    "try:\n",
    "    \n",
    "    with open(\"input.txt\", \"w\") as f:\n",
    "        f.write(\"This is line 1\\n\")\n",
    "        f.write(\"This is line 2\\n\")\n",
    "        f.write(\"This is line 3\\n\")\n",
    "\n",
    "    with open(\"input.txt\", \"r\") as f1, open(\"output.txt\", \"w\") as f2:\n",
    "        for line in f1:\n",
    "            f2.write(line)\n",
    "\n",
    "    print(\"File copied successfully!\")\n",
    "\n",
    "except FileNotFoundError:\n",
    "    print(\"The input file does not exist!\")\n"
   ]
  },
  {
   "cell_type": "markdown",
   "id": "bc35b9d8-5e9f-4647-bebe-5c33bd589d31",
   "metadata": {},
   "source": [
    "**5. How would you catch and handle division by zero error in Python?**"
   ]
  },
  {
   "cell_type": "code",
   "execution_count": 1,
   "id": "51c92098-3297-4f44-8e7b-ce33eb7b294c",
   "metadata": {},
   "outputs": [
    {
     "name": "stdout",
     "output_type": "stream",
     "text": [
      "Cannot divide by zero\n"
     ]
    }
   ],
   "source": [
    "try:\n",
    "    print(10 / 0)\n",
    "except ZeroDivisionError:\n",
    "    print(\"Cannot divide by zero\")\n"
   ]
  },
  {
   "cell_type": "markdown",
   "id": "046c3003-d06a-4f69-a3f6-f6be7e02e7d4",
   "metadata": {},
   "source": [
    "**6. Write a Python program that logs an error message to a log file when a division by zero exception occurs.**"
   ]
  },
  {
   "cell_type": "code",
   "execution_count": 2,
   "id": "f962e8f7-f12d-4b89-bd26-e298af050120",
   "metadata": {},
   "outputs": [],
   "source": [
    "import logging\n",
    "logging.basicConfig(filename=\"error.log\", level=logging.ERROR)\n",
    "\n",
    "try:\n",
    "    print(10 / 0)\n",
    "except ZeroDivisionError:\n",
    "    logging.error(\"Division by zero error occurred\")\n"
   ]
  },
  {
   "cell_type": "markdown",
   "id": "a6fae5c3-a6b6-47c0-8501-057f71b72fab",
   "metadata": {},
   "source": [
    "**7. How do you log information at different levels (INFO, ERROR, WARNING) in Python using the logging module?**"
   ]
  },
  {
   "cell_type": "code",
   "execution_count": 3,
   "id": "c2b0f039-fe5e-47e9-96a7-a29070da650a",
   "metadata": {},
   "outputs": [],
   "source": [
    "import logging\n",
    "logging.basicConfig(level=logging.DEBUG)\n",
    "\n",
    "logging.info(\"This is an info message\")\n",
    "logging.warning(\"This is a warning message\")\n",
    "logging.error(\"This is an error message\")\n"
   ]
  },
  {
   "cell_type": "markdown",
   "id": "cbfbee59-cd19-43b8-b6ec-792428e719c3",
   "metadata": {},
   "source": [
    "**8. Write a program to handle a file opening error using exception handling.**"
   ]
  },
  {
   "cell_type": "code",
   "execution_count": 4,
   "id": "69974aed-77cf-4aab-a0e5-68bbeb9a9d19",
   "metadata": {},
   "outputs": [
    {
     "name": "stdout",
     "output_type": "stream",
     "text": [
      "File does not exist\n"
     ]
    }
   ],
   "source": [
    "try:\n",
    "    f = open(\"unknown.txt\", \"r\")\n",
    "except FileNotFoundError:\n",
    "    print(\"File does not exist\")\n"
   ]
  },
  {
   "cell_type": "markdown",
   "id": "f25ba8e3-cfde-48b4-b564-e0b1f01976bd",
   "metadata": {},
   "source": [
    "**9. How can you read a file line by line and store its content in a list in Python?**"
   ]
  },
  {
   "cell_type": "code",
   "execution_count": 5,
   "id": "b86d093b-5bc5-45ab-a999-03235ab9b862",
   "metadata": {},
   "outputs": [
    {
     "name": "stdout",
     "output_type": "stream",
     "text": [
      "['Hello, World!']\n"
     ]
    }
   ],
   "source": [
    "with open(\"test.txt\", \"r\") as f:\n",
    "    lines = f.readlines()\n",
    "print(lines)\n"
   ]
  },
  {
   "cell_type": "markdown",
   "id": "e0858ca2-58b3-4c06-8f23-439b3f1bf6b1",
   "metadata": {},
   "source": [
    "**10. How can you append data to an existing file in Python?**"
   ]
  },
  {
   "cell_type": "code",
   "execution_count": 6,
   "id": "e289c18f-0c47-48d0-9d5f-8ffe93c285cc",
   "metadata": {},
   "outputs": [],
   "source": [
    "with open(\"test.txt\", \"a\") as f:\n",
    "    f.write(\"\\nNew Line\")\n"
   ]
  },
  {
   "cell_type": "markdown",
   "id": "3562a395-a4c6-4847-b044-0e1cdce736c4",
   "metadata": {},
   "source": [
    "**11. Write a Python program that uses a try-except block to handle an error when attempting to access a dictionary key that doesn't exist.**"
   ]
  },
  {
   "cell_type": "code",
   "execution_count": 7,
   "id": "3acecb6c-8cf2-4628-93e8-cbede178e44a",
   "metadata": {},
   "outputs": [
    {
     "name": "stdout",
     "output_type": "stream",
     "text": [
      "Key not found in dictionary\n"
     ]
    }
   ],
   "source": [
    "data = {\"name\": \"Manish\"}\n",
    "try:\n",
    "    print(data[\"age\"])\n",
    "except KeyError:\n",
    "    print(\"Key not found in dictionary\")\n"
   ]
  },
  {
   "cell_type": "markdown",
   "id": "d34b8976-0a3b-48b7-b40a-e48689ab9d85",
   "metadata": {},
   "source": [
    "**12. Write a program that demonstrates using multiple except blocks to handle different types of exceptions.**"
   ]
  },
  {
   "cell_type": "code",
   "execution_count": 8,
   "id": "bf6feb60-4e1b-478e-b17f-cb0af7e283a4",
   "metadata": {},
   "outputs": [
    {
     "name": "stdout",
     "output_type": "stream",
     "text": [
      "ValueError occurred\n"
     ]
    }
   ],
   "source": [
    "try:\n",
    "    x = int(\"abc\")\n",
    "    y = 10 / 0\n",
    "except ValueError:\n",
    "    print(\"ValueError occurred\")\n",
    "except ZeroDivisionError:\n",
    "    print(\"ZeroDivisionError occurred\")\n"
   ]
  },
  {
   "cell_type": "markdown",
   "id": "b0435988-d418-4a2b-b002-0cc60b502cea",
   "metadata": {},
   "source": [
    "**13. How would you check if a file exists before attempting to read it in Python?**"
   ]
  },
  {
   "cell_type": "code",
   "execution_count": 9,
   "id": "ef75c000-db83-4158-a37f-21d42cc459dd",
   "metadata": {},
   "outputs": [
    {
     "name": "stdout",
     "output_type": "stream",
     "text": [
      "Hello, World!\n",
      "New Line\n"
     ]
    }
   ],
   "source": [
    "import os\n",
    "\n",
    "if os.path.exists(\"test.txt\"):\n",
    "    with open(\"test.txt\", \"r\") as f:\n",
    "        print(f.read())\n",
    "else:\n",
    "    print(\"File does not exist\")\n"
   ]
  },
  {
   "cell_type": "markdown",
   "id": "50408b6a-1304-4d2c-b33e-e73d89f3de41",
   "metadata": {},
   "source": [
    "**14. Write a program that uses the logging module to log both informational and error messages.**"
   ]
  },
  {
   "cell_type": "code",
   "execution_count": 10,
   "id": "73e7df97-d31e-4e7e-8a23-a777fbe2772c",
   "metadata": {},
   "outputs": [],
   "source": [
    "import logging\n",
    "logging.basicConfig(filename=\"app.log\", level=logging.DEBUG)\n",
    "\n",
    "logging.info(\"Program started\")\n",
    "try:\n",
    "    10 / 0\n",
    "except ZeroDivisionError:\n",
    "    logging.error(\"Division by zero error\")\n"
   ]
  },
  {
   "cell_type": "markdown",
   "id": "0be266e5-fe42-4543-9420-8413ab6f5902",
   "metadata": {},
   "source": [
    "**15. Write a Python program that prints the content of a file and handles the case when the file is empty.**"
   ]
  },
  {
   "cell_type": "code",
   "execution_count": 11,
   "id": "ce3527c6-9166-4402-8365-96de9d526d3e",
   "metadata": {},
   "outputs": [
    {
     "name": "stdout",
     "output_type": "stream",
     "text": [
      "Hello, World!\n",
      "New Line\n"
     ]
    }
   ],
   "source": [
    "with open(\"test.txt\", \"r\") as f:\n",
    "    content = f.read()\n",
    "    if content:\n",
    "        print(content)\n",
    "    else:\n",
    "        print(\"File is empty\")\n"
   ]
  },
  {
   "cell_type": "markdown",
   "id": "2adfaef5-df03-4186-ab1a-ada2063961a4",
   "metadata": {},
   "source": [
    "**16. Demonstrate how to use memory profiling to check the memory usage of a small program.**"
   ]
  },
  {
   "cell_type": "code",
   "execution_count": 22,
   "id": "f5a0e4ea-2682-4911-b37f-4461bc75ea9a",
   "metadata": {},
   "outputs": [
    {
     "name": "stdout",
     "output_type": "stream",
     "text": [
      "Defaulting to user installation because normal site-packages is not writeable\n",
      "Collecting memory-profiler\n",
      "  Downloading memory_profiler-0.61.0-py3-none-any.whl.metadata (20 kB)\n",
      "Requirement already satisfied: psutil in c:\\programdata\\anaconda3\\lib\\site-packages (from memory-profiler) (5.9.0)\n",
      "Downloading memory_profiler-0.61.0-py3-none-any.whl (31 kB)\n",
      "Note: you may need to restart the kernel to use updated packages.\n"
     ]
    },
    {
     "name": "stderr",
     "output_type": "stream",
     "text": [
      "ERROR: Exception:\n",
      "Traceback (most recent call last):\n",
      "  File \"C:\\ProgramData\\anaconda3\\Lib\\site-packages\\pip\\_vendor\\urllib3\\response.py\", line 438, in _error_catcher\n",
      "    yield\n",
      "  File \"C:\\ProgramData\\anaconda3\\Lib\\site-packages\\pip\\_vendor\\urllib3\\response.py\", line 561, in read\n",
      "    data = self._fp_read(amt) if not fp_closed else b\"\"\n",
      "           ~~~~~~~~~~~~~^^^^^\n",
      "  File \"C:\\ProgramData\\anaconda3\\Lib\\site-packages\\pip\\_vendor\\urllib3\\response.py\", line 527, in _fp_read\n",
      "    return self._fp.read(amt) if amt is not None else self._fp.read()\n",
      "           ~~~~~~~~~~~~~^^^^^\n",
      "  File \"C:\\ProgramData\\anaconda3\\Lib\\site-packages\\pip\\_vendor\\cachecontrol\\filewrapper.py\", line 98, in read\n",
      "    data: bytes = self.__fp.read(amt)\n",
      "                  ~~~~~~~~~~~~~~^^^^^\n",
      "  File \"C:\\ProgramData\\anaconda3\\Lib\\http\\client.py\", line 479, in read\n",
      "    s = self.fp.read(amt)\n",
      "  File \"C:\\ProgramData\\anaconda3\\Lib\\socket.py\", line 719, in readinto\n",
      "    return self._sock.recv_into(b)\n",
      "           ~~~~~~~~~~~~~~~~~~~~^^^\n",
      "  File \"C:\\ProgramData\\anaconda3\\Lib\\ssl.py\", line 1304, in recv_into\n",
      "    return self.read(nbytes, buffer)\n",
      "           ~~~~~~~~~^^^^^^^^^^^^^^^^\n",
      "  File \"C:\\ProgramData\\anaconda3\\Lib\\ssl.py\", line 1138, in read\n",
      "    return self._sslobj.read(len, buffer)\n",
      "           ~~~~~~~~~~~~~~~~~^^^^^^^^^^^^^\n",
      "ssl.SSLError: [SSL: DECRYPTION_FAILED_OR_BAD_RECORD_MAC] decryption failed or bad record mac (_ssl.c:2648)\n",
      "\n",
      "During handling of the above exception, another exception occurred:\n",
      "\n",
      "Traceback (most recent call last):\n",
      "  File \"C:\\ProgramData\\anaconda3\\Lib\\site-packages\\pip\\_internal\\cli\\base_command.py\", line 105, in _run_wrapper\n",
      "    status = _inner_run()\n",
      "  File \"C:\\ProgramData\\anaconda3\\Lib\\site-packages\\pip\\_internal\\cli\\base_command.py\", line 96, in _inner_run\n",
      "    return self.run(options, args)\n",
      "           ~~~~~~~~^^^^^^^^^^^^^^^\n",
      "  File \"C:\\ProgramData\\anaconda3\\Lib\\site-packages\\pip\\_internal\\cli\\req_command.py\", line 68, in wrapper\n",
      "    return func(self, options, args)\n",
      "  File \"C:\\ProgramData\\anaconda3\\Lib\\site-packages\\pip\\_internal\\commands\\install.py\", line 387, in run\n",
      "    requirement_set = resolver.resolve(\n",
      "        reqs, check_supported_wheels=not options.target_dir\n",
      "    )\n",
      "  File \"C:\\ProgramData\\anaconda3\\Lib\\site-packages\\pip\\_internal\\resolution\\resolvelib\\resolver.py\", line 182, in resolve\n",
      "    self.factory.preparer.prepare_linked_requirements_more(reqs)\n",
      "    ~~~~~~~~~~~~~~~~~~~~~~~~~~~~~~~~~~~~~~~~~~~~~~~~~~~~~~^^^^^^\n",
      "  File \"C:\\ProgramData\\anaconda3\\Lib\\site-packages\\pip\\_internal\\operations\\prepare.py\", line 559, in prepare_linked_requirements_more\n",
      "    self._complete_partial_requirements(\n",
      "    ~~~~~~~~~~~~~~~~~~~~~~~~~~~~~~~~~~~^\n",
      "        partially_downloaded_reqs,\n",
      "        ^^^^^^^^^^^^^^^^^^^^^^^^^^\n",
      "        parallel_builds=parallel_builds,\n",
      "        ^^^^^^^^^^^^^^^^^^^^^^^^^^^^^^^^\n",
      "    )\n",
      "    ^\n",
      "  File \"C:\\ProgramData\\anaconda3\\Lib\\site-packages\\pip\\_internal\\operations\\prepare.py\", line 474, in _complete_partial_requirements\n",
      "    for link, (filepath, _) in batch_download:\n",
      "                               ^^^^^^^^^^^^^^\n",
      "  File \"C:\\ProgramData\\anaconda3\\Lib\\site-packages\\pip\\_internal\\network\\download.py\", line 313, in __call__\n",
      "    filepath, content_type = self._downloader(link, location)\n",
      "                             ~~~~~~~~~~~~~~~~^^^^^^^^^^^^^^^^\n",
      "  File \"C:\\ProgramData\\anaconda3\\Lib\\site-packages\\pip\\_internal\\network\\download.py\", line 185, in __call__\n",
      "    bytes_received = self._process_response(\n",
      "        resp, link, content_file, 0, total_length\n",
      "    )\n",
      "  File \"C:\\ProgramData\\anaconda3\\Lib\\site-packages\\pip\\_internal\\network\\download.py\", line 208, in _process_response\n",
      "    return self._write_chunks_to_file(\n",
      "           ~~~~~~~~~~~~~~~~~~~~~~~~~~^\n",
      "        chunks, content_file, allow_partial=bool(total_length)\n",
      "        ^^^^^^^^^^^^^^^^^^^^^^^^^^^^^^^^^^^^^^^^^^^^^^^^^^^^^^\n",
      "    )\n",
      "    ^\n",
      "  File \"C:\\ProgramData\\anaconda3\\Lib\\site-packages\\pip\\_internal\\network\\download.py\", line 218, in _write_chunks_to_file\n",
      "    for chunk in chunks:\n",
      "                 ^^^^^^\n",
      "  File \"C:\\ProgramData\\anaconda3\\Lib\\site-packages\\pip\\_internal\\network\\utils.py\", line 65, in response_chunks\n",
      "    for chunk in response.raw.stream(\n",
      "                 ~~~~~~~~~~~~~~~~~~~^\n",
      "        chunk_size,\n",
      "        ^^^^^^^^^^^\n",
      "    ...<22 lines>...\n",
      "        decode_content=False,\n",
      "        ^^^^^^^^^^^^^^^^^^^^^\n",
      "    ):\n",
      "    ^\n",
      "  File \"C:\\ProgramData\\anaconda3\\Lib\\site-packages\\pip\\_vendor\\urllib3\\response.py\", line 622, in stream\n",
      "    data = self.read(amt=amt, decode_content=decode_content)\n",
      "  File \"C:\\ProgramData\\anaconda3\\Lib\\site-packages\\pip\\_vendor\\urllib3\\response.py\", line 560, in read\n",
      "    with self._error_catcher():\n",
      "         ~~~~~~~~~~~~~~~~~~~^^\n",
      "  File \"C:\\ProgramData\\anaconda3\\Lib\\contextlib.py\", line 162, in __exit__\n",
      "    self.gen.throw(value)\n",
      "    ~~~~~~~~~~~~~~^^^^^^^\n",
      "  File \"C:\\ProgramData\\anaconda3\\Lib\\site-packages\\pip\\_vendor\\urllib3\\response.py\", line 449, in _error_catcher\n",
      "    raise SSLError(e)\n",
      "pip._vendor.urllib3.exceptions.SSLError: [SSL: DECRYPTION_FAILED_OR_BAD_RECORD_MAC] decryption failed or bad record mac (_ssl.c:2648)\n"
     ]
    }
   ],
   "source": [
    "pip install memory-profiler"
   ]
  },
  {
   "cell_type": "code",
   "execution_count": 26,
   "id": "522e19f6-441a-44d0-adf9-64d2e6992b0e",
   "metadata": {},
   "outputs": [
    {
     "ename": "ModuleNotFoundError",
     "evalue": "No module named 'memory_profiler'",
     "output_type": "error",
     "traceback": [
      "\u001b[1;31m---------------------------------------------------------------------------\u001b[0m",
      "\u001b[1;31mModuleNotFoundError\u001b[0m                       Traceback (most recent call last)",
      "Cell \u001b[1;32mIn[26], line 1\u001b[0m\n\u001b[1;32m----> 1\u001b[0m \u001b[38;5;28;01mfrom\u001b[39;00m\u001b[38;5;250m \u001b[39m\u001b[38;5;21;01mmemory_profiler\u001b[39;00m\u001b[38;5;250m \u001b[39m\u001b[38;5;28;01mimport\u001b[39;00m profile\n\u001b[0;32m      4\u001b[0m \u001b[38;5;28;01mimport\u001b[39;00m\u001b[38;5;250m \u001b[39m\u001b[38;5;21;01mtracemalloc\u001b[39;00m\n\u001b[0;32m      6\u001b[0m tracemalloc\u001b[38;5;241m.\u001b[39mstart()\n",
      "\u001b[1;31mModuleNotFoundError\u001b[0m: No module named 'memory_profiler'"
     ]
    }
   ],
   "source": [
    "\n",
    "from memory_profiler import profile\n",
    "\n",
    "\n",
    "import tracemalloc\n",
    "\n",
    "tracemalloc.start()\n",
    "\n",
    "def calc():\n",
    "    data = [i for i in range(1000)]\n",
    "    return sum(data)\n",
    "\n",
    "result = calc()\n",
    "print(\"Result:\", result)\n",
    "\n",
    "current, peak = tracemalloc.get_traced_memory()\n",
    "print(f\"Current memory usage: {current / 1024:.2f} KB\")\n",
    "print(f\"Peak memory usage: {peak / 1024:.2f} KB\")\n",
    "\n",
    "tracemalloc.stop()\n",
    "\n"
   ]
  },
  {
   "cell_type": "markdown",
   "id": "e96d6e56-81aa-4c15-a8fb-2eb70bfae161",
   "metadata": {},
   "source": [
    "**17. Write a Python program to create and write a list of numbers to a file, one number per line.**"
   ]
  },
  {
   "cell_type": "code",
   "execution_count": 13,
   "id": "6e64ac4c-0766-4c9e-8e5a-2b2210f050bc",
   "metadata": {},
   "outputs": [],
   "source": [
    "numbers = [1, 2, 3, 4, 5]\n",
    "with open(\"numbers.txt\", \"w\") as f:\n",
    "    for num in numbers:\n",
    "        f.write(str(num) + \"\\n\")\n"
   ]
  },
  {
   "cell_type": "markdown",
   "id": "a82ae0af-9fe6-4669-9d01-8df84d169807",
   "metadata": {},
   "source": [
    "**18. How would you implement a basic logging setup that logs to a file with rotation after 1MB?**"
   ]
  },
  {
   "cell_type": "code",
   "execution_count": 14,
   "id": "e9757293-d58c-44ee-81b4-57d91ce31c76",
   "metadata": {},
   "outputs": [],
   "source": [
    "import logging\n",
    "from logging.handlers import RotatingFileHandler\n",
    "\n",
    "handler = RotatingFileHandler(\"app.log\", maxBytes=1_000_000, backupCount=3)\n",
    "logging.basicConfig(handlers=[handler], level=logging.INFO)\n",
    "\n",
    "logging.info(\"This is an info message\")\n"
   ]
  },
  {
   "cell_type": "markdown",
   "id": "062f1c5c-6d5e-4058-b0ce-f66e05b25e18",
   "metadata": {},
   "source": [
    "**19. Write a program that handles both IndexError and KeyError using a try-except block.**"
   ]
  },
  {
   "cell_type": "code",
   "execution_count": 15,
   "id": "12b26b02-d2e9-435e-ac6d-6ae22f7a5a24",
   "metadata": {},
   "outputs": [
    {
     "name": "stdout",
     "output_type": "stream",
     "text": [
      "IndexError occurred\n"
     ]
    }
   ],
   "source": [
    "try:\n",
    "    lst = [1, 2]\n",
    "    print(lst[5])  # IndexError\n",
    "    d = {\"name\": \"Manish\"}\n",
    "    print(d[\"age\"])  # KeyError\n",
    "except IndexError:\n",
    "    print(\"IndexError occurred\")\n",
    "except KeyError:\n",
    "    print(\"KeyError occurred\")\n"
   ]
  },
  {
   "cell_type": "markdown",
   "id": "bbe85195-0a87-4e50-907e-06a07cae449e",
   "metadata": {},
   "source": [
    "**20. How would you open a file and read its contents using a context manager in Python?**"
   ]
  },
  {
   "cell_type": "code",
   "execution_count": 16,
   "id": "d7aa80e3-86ac-4e67-bd37-a606cc447366",
   "metadata": {},
   "outputs": [
    {
     "name": "stdout",
     "output_type": "stream",
     "text": [
      "Hello, World!\n",
      "New Line\n"
     ]
    }
   ],
   "source": [
    "with open(\"test.txt\", \"r\") as f:\n",
    "    print(f.read())\n"
   ]
  },
  {
   "cell_type": "markdown",
   "id": "8da01326-4987-488f-a146-9e49f9facb2d",
   "metadata": {},
   "source": [
    "**21. Write a Python program that reads a file and prints the number of occurrences of a specific word.**"
   ]
  },
  {
   "cell_type": "code",
   "execution_count": 17,
   "id": "7182e74c-5236-41ad-98c8-08f1d8113c39",
   "metadata": {},
   "outputs": [
    {
     "name": "stdout",
     "output_type": "stream",
     "text": [
      "Occurrences: 0\n"
     ]
    }
   ],
   "source": [
    "word = \"Python\"\n",
    "count = 0\n",
    "with open(\"test.txt\", \"r\") as f:\n",
    "    for line in f:\n",
    "        count += line.count(word)\n",
    "print(\"Occurrences:\", count)\n"
   ]
  },
  {
   "cell_type": "markdown",
   "id": "96fee5b5-9035-41d0-88e9-f000ecb09f8c",
   "metadata": {},
   "source": [
    "**22. How can you check if a file is empty before attempting to read its contents?**"
   ]
  },
  {
   "cell_type": "code",
   "execution_count": 18,
   "id": "29dc8242-91d1-4f48-b715-59eff0c0707a",
   "metadata": {},
   "outputs": [
    {
     "name": "stdout",
     "output_type": "stream",
     "text": [
      "Hello, World!\n",
      "New Line\n"
     ]
    }
   ],
   "source": [
    "import os\n",
    "\n",
    "if os.path.getsize(\"test.txt\") == 0:\n",
    "    print(\"File is empty\")\n",
    "else:\n",
    "    with open(\"test.txt\", \"r\") as f:\n",
    "        print(f.read())\n"
   ]
  },
  {
   "cell_type": "markdown",
   "id": "8b4bf1b9-62ed-4a49-9334-303d6386b9a8",
   "metadata": {},
   "source": [
    "**23. Write a Python program that writes to a log file when an error occurs during file handling.**"
   ]
  },
  {
   "cell_type": "code",
   "execution_count": 19,
   "id": "68d79ba2-3779-414d-8444-1ebdf3df1cc5",
   "metadata": {},
   "outputs": [],
   "source": [
    "import logging\n",
    "logging.basicConfig(filename=\"file_error.log\", level=logging.ERROR)\n",
    "\n",
    "try:\n",
    "    f = open(\"nofile.txt\", \"r\")\n",
    "except FileNotFoundError:\n",
    "    logging.error(\"File not found error occurred\")\n"
   ]
  },
  {
   "cell_type": "code",
   "execution_count": null,
   "id": "049507b4-44e2-41a0-bad5-0977809fb04e",
   "metadata": {},
   "outputs": [],
   "source": []
  },
  {
   "cell_type": "code",
   "execution_count": null,
   "id": "467d9af7-bfe0-4820-8996-cfcbdaa31c0f",
   "metadata": {},
   "outputs": [],
   "source": []
  }
 ],
 "metadata": {
  "kernelspec": {
   "display_name": "Python 3 (ipykernel)",
   "language": "python",
   "name": "python3"
  },
  "language_info": {
   "codemirror_mode": {
    "name": "ipython",
    "version": 3
   },
   "file_extension": ".py",
   "mimetype": "text/x-python",
   "name": "python",
   "nbconvert_exporter": "python",
   "pygments_lexer": "ipython3",
   "version": "3.13.5"
  }
 },
 "nbformat": 4,
 "nbformat_minor": 5
}
