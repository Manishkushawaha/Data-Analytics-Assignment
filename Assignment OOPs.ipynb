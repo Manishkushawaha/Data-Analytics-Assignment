{
 "cells": [
  {
   "cell_type": "markdown",
   "id": "cb2a6dad-d045-4736-85fc-165c8286134e",
   "metadata": {},
   "source": [
    "## Python OOPs Questions"
   ]
  },
  {
   "cell_type": "markdown",
   "id": "23568c32-e342-488d-aeb0-2e6fe3557a57",
   "metadata": {},
   "source": [
    "**1. What is Object-Oriented Programming (OOP)?**"
   ]
  },
  {
   "cell_type": "markdown",
   "id": "be331ab7-1a68-4586-b9aa-e68aba9923dc",
   "metadata": {},
   "source": [
    "Object-Oriented Programming (OOP) is a programming paradigm that organizes code around **objects** rather than functions or logic.\n",
    "\n",
    "* object is an instance of a class that bundles together data (attributes or properties) and behaviors (methods or functions).\n",
    "\n",
    "* The main idea of OOP is to model real-world entities in a program by representing them as objects.\n",
    "\n",
    "**Key Concepts of OOP:**\n",
    "\n",
    "**Class –** A blueprint or template that defines the structure (attributes) and behavior (methods) of objects.\n",
    "**Example:** Car is a class.\n",
    "\n",
    "**Object –** An instance of a class with actual values.\n",
    "**Example:** my_car = Car(\"Tesla\", \"Red\").\n",
    "\n",
    "**Encapsulation –** Bundling of data (variables) and methods that operate on the data into a single unit (class), while restricting direct access to some parts (using access modifiers).\n",
    "\n",
    "**Abstraction –** Hiding the complex implementation details and showing only the necessary features to the user.\n",
    "\n",
    "**Inheritance –** The ability of one class (child/derived class) to inherit attributes and behaviors from another class (parent/base class).\n",
    "\n",
    "**Polymorphism –** The ability of objects to take on many forms, usually by overriding methods or using the same method name for different behaviors."
   ]
  },
  {
   "cell_type": "code",
   "execution_count": 2,
   "id": "98db02a6-8046-4469-b385-c42ab732eb16",
   "metadata": {},
   "outputs": [
    {
     "name": "stdout",
     "output_type": "stream",
     "text": [
      "The Red Tesla is driving.\n"
     ]
    }
   ],
   "source": [
    "# class definition\n",
    "\n",
    "class car:\n",
    "    def __init__(self,brand,color):\n",
    "        self.brand = brand   # attribute\n",
    "        self.color = color\n",
    "\n",
    "    def drive(self): # method\n",
    "        print(f\"The {self.color} {self.brand} is driving.\")\n",
    "\n",
    "car1 = car(\"Tesla\",\"Red\")\n",
    "\n",
    "car1.drive()"
   ]
  },
  {
   "cell_type": "markdown",
   "id": "d37fc1e0-6394-4cbc-98bc-3be48fa0ebd5",
   "metadata": {},
   "source": [
    "**2. What is a class in OOP?**"
   ]
  },
  {
   "cell_type": "markdown",
   "id": "c0dd751e-c145-4695-bbe2-3332ebf3b973",
   "metadata": {},
   "source": [
    "In **Object-Oriented Programming (OOP)**, a class is like a **blueprint or template** used to create objects.\n",
    "\n",
    "**It defines:**\n",
    "\n",
    "* **Attributes (data/properties) →** variables that hold information about the object.\n",
    "\n",
    "* **Methods (functions/behaviors) →** actions that the object can perform.\n",
    "\n",
    "But a class itself is **not an object** — it just describes how an object should look and behave. Objects are created from classes (this process is called instantiation)."
   ]
  },
  {
   "cell_type": "code",
   "execution_count": 4,
   "id": "e2683a32-3da2-4d8f-9e74-a80543e6c9a0",
   "metadata": {},
   "outputs": [
    {
     "name": "stdout",
     "output_type": "stream",
     "text": [
      "Tesla\n",
      "The Red Tesla is driving.\n"
     ]
    }
   ],
   "source": [
    "# Defining a class\n",
    "\n",
    "class Car:\n",
    "    \n",
    "    # Constructor (special method to initialize object)\n",
    "    \n",
    "    def __init__(self, brand, color):\n",
    "        self.brand = brand    # Attribute\n",
    "        self.color = color\n",
    "\n",
    "    # Method (behavior)\n",
    "    \n",
    "    def drive(self):\n",
    "        print(f\"The {self.color} {self.brand} is driving.\")\n",
    "\n",
    "# Creating objects (instances) of Car class\n",
    "\n",
    "car1 = Car(\"Tesla\", \"Red\")\n",
    "car2 = Car(\"BMW\", \"Black\")\n",
    "\n",
    "print(car1.brand)   \n",
    "car1.drive()        \n"
   ]
  },
  {
   "cell_type": "markdown",
   "id": "fd8cba43-8584-43bd-8200-e5182c7112f9",
   "metadata": {},
   "source": [
    "**3. What is an object in OOP?**"
   ]
  },
  {
   "cell_type": "markdown",
   "id": "42e17d14-e323-4522-bcb1-6e66a32fd5d8",
   "metadata": {},
   "source": [
    "In **Object-Oriented Programming (OOP)**, an **object is an instance** of a class.\n",
    "\n",
    "- A class is the blueprint, while an object is the actual thing built from that blueprint.\n",
    "\n",
    "- An object contains:\n",
    "  - **Attributes (data/properties)** → information stored in the object.\n",
    "  - **Methods (behaviors/functions)** → actions the object can perform."
   ]
  },
  {
   "cell_type": "code",
   "execution_count": 6,
   "id": "b6532ba0-22ec-460f-9769-dbd6a9f4205c",
   "metadata": {},
   "outputs": [
    {
     "name": "stdout",
     "output_type": "stream",
     "text": [
      "BMW\n",
      "The Black BMW is driving.\n"
     ]
    }
   ],
   "source": [
    "# Class definition\n",
    "class Car:\n",
    "    def __init__(self, brand, color):\n",
    "        self.brand = brand\n",
    "        self.color = color\n",
    "\n",
    "    def drive(self):\n",
    "        print(f\"The {self.color} {self.brand} is driving.\")\n",
    "\n",
    "# Creating objects (instances of the Car class)\n",
    "\n",
    "car1 = Car(\"BMW\", \"Black\")\n",
    "\n",
    "# Using object attributes and methods\n",
    "\n",
    "print(car1.brand)   \n",
    "car1.drive()        \n"
   ]
  },
  {
   "cell_type": "markdown",
   "id": "ae574777-4e3d-490f-bc77-9ca0cb9cefdd",
   "metadata": {},
   "source": [
    "**4. What is the difference between abstraction and encapsulation?**"
   ]
  },
  {
   "cell_type": "markdown",
   "id": "dfd31615-86fc-47e7-8d96-c77afd64e45d",
   "metadata": {},
   "source": [
    "### 1. Abstraction\n",
    "\n",
    "* **Definition:** Hiding the implementation details and showing only the essential features to the user.\n",
    "\n",
    "* **Focus:** What an object does.\n",
    "\n",
    "* **Achieved by:** Abstract classes, Interfaces (in languages like Java), or simply by exposing only required methods.\n",
    "\n",
    "* **Example:**\n",
    "When you drive a car, you just use the steering wheel, brake, and accelerator. You don’t know (or need to know) the complex internal mechanism of the engine.\n",
    "\n",
    "**Python Example (Abstraction):**"
   ]
  },
  {
   "cell_type": "code",
   "execution_count": 1,
   "id": "f120a472-e402-4dda-afa1-aad887d3d067",
   "metadata": {},
   "outputs": [
    {
     "name": "stdout",
     "output_type": "stream",
     "text": [
      "The car is driving\n"
     ]
    }
   ],
   "source": [
    "from abc import ABC, abstractmethod\n",
    "\n",
    "class vehicle(ABC):  # Abstract class\n",
    "    @abstractmethod\n",
    "    def drive(self):\n",
    "        pass\n",
    "\n",
    "class car(vehicle):\n",
    "    def drive(self):\n",
    "        print(\"The car is driving\")\n",
    "\n",
    "# User only calls drive() without knowing its inner working\n",
    "vehicle = car()\n",
    "vehicle.drive()"
   ]
  },
  {
   "cell_type": "markdown",
   "id": "26bed9e8-7364-470f-8908-899295b3793d",
   "metadata": {},
   "source": [
    "**2. Encapsulation**\n",
    "\n",
    "* **Definition:** Binding the data (attributes) and methods (functions) into a single unit (class) and restricting direct access to some of the object’s components.\n",
    "\n",
    "* **Focus:** How data is hidden and protected.\n",
    "\n",
    "* **Achieved by:** Access modifiers (public, private, protected in many languages; in Python using _ and __ prefixes).\n",
    "\n",
    "**Example:**\n",
    "In a car, the speed is an internal property — you can’t set it directly by changing gears in the engine; instead, you use methods like accelerate().\n",
    "\n",
    "**Python Example (Encapsulation):**"
   ]
  },
  {
   "cell_type": "code",
   "execution_count": 2,
   "id": "6bfcae15-d26f-4580-8fe8-218abdfbdde9",
   "metadata": {},
   "outputs": [
    {
     "name": "stdout",
     "output_type": "stream",
     "text": [
      "Tesla\n",
      "BMW\n"
     ]
    }
   ],
   "source": [
    "class Car:\n",
    "    def __init__(self, brand):\n",
    "        self.__brand = brand   # private attribute (name mangling with __)\n",
    "\n",
    "    def get_brand(self):\n",
    "        return self.__brand    # controlled access\n",
    "\n",
    "    def set_brand(self, brand):\n",
    "        self.__brand = brand   # controlled modification\n",
    "\n",
    "car = Car(\"Tesla\")\n",
    "print(car.get_brand())   # Access through method\n",
    "car.set_brand(\"BMW\")\n",
    "print(car.get_brand())\n"
   ]
  },
  {
   "cell_type": "markdown",
   "id": "15e6f9fd-1d27-4b93-85ec-ab25a4311a53",
   "metadata": {},
   "source": [
    "**5. What are dunder methods in Python?**"
   ]
  },
  {
   "cell_type": "markdown",
   "id": "3dc22d3d-ec72-4f3d-bf50-a6ca544adc43",
   "metadata": {},
   "source": [
    "**Dunder Methods in Python**\n",
    "\n",
    "* Dunder stands for “Double UNDERSCORE”.\n",
    "\n",
    "* These are special methods in Python that start and end with two underscores (__).\n",
    "\n",
    "* They are also called magic methods or special methods.\n",
    "\n",
    "* They let you customize the behavior of objects (like how they’re created, represented, added, compared, etc.).\n",
    "\n",
    "**Examples of Dunder Methods**\n",
    "\n",
    "1. `__init__` → Constructor (initializes an object)."
   ]
  },
  {
   "cell_type": "code",
   "execution_count": 3,
   "id": "5fcd0ac1-3df9-4e66-a196-6c26fe872550",
   "metadata": {},
   "outputs": [],
   "source": [
    "class car:\n",
    "    def __init__(self, brand, color):\n",
    "        self.brand = brand\n",
    "        self.color = color\n",
    "\n",
    "car = car(\"Tesla\", \"Red\")   # __init__ is called automatically"
   ]
  },
  {
   "cell_type": "markdown",
   "id": "9f072141-2379-426f-bd83-01c52129a436",
   "metadata": {},
   "source": [
    "2. `__str__` → Defines string representation when you use print()."
   ]
  },
  {
   "cell_type": "code",
   "execution_count": 4,
   "id": "5d19257c-d221-44ea-8b87-2f12a2cf5cdc",
   "metadata": {},
   "outputs": [
    {
     "name": "stdout",
     "output_type": "stream",
     "text": [
      "Car brand: BMW\n"
     ]
    }
   ],
   "source": [
    "class Car:\n",
    "    def __init__(self, brand):\n",
    "        self.brand = brand\n",
    "\n",
    "    def __str__(self):\n",
    "        return f\"Car brand: {self.brand}\"\n",
    "\n",
    "car = Car(\"BMW\")\n",
    "print(car)  "
   ]
  },
  {
   "cell_type": "markdown",
   "id": "9513c812-e163-4b0f-b2ec-642fb224f474",
   "metadata": {},
   "source": [
    "3. `__add__` → Customizes behavior of the + operator."
   ]
  },
  {
   "cell_type": "code",
   "execution_count": 5,
   "id": "6298a006-cebd-44fd-bf1b-6074eb97b521",
   "metadata": {},
   "outputs": [
    {
     "name": "stdout",
     "output_type": "stream",
     "text": [
      "6 8\n"
     ]
    }
   ],
   "source": [
    "class Point:\n",
    "    def __init__(self, x, y):\n",
    "        self.x = x\n",
    "        self.y = y\n",
    "\n",
    "    def __add__(self, other):\n",
    "        return Point(self.x + other.x, self.y + other.y)\n",
    "\n",
    "p1 = Point(2, 3)\n",
    "p2 = Point(4, 5)\n",
    "result = p1 + p2  \n",
    "print(result.x, result.y) \n"
   ]
  },
  {
   "cell_type": "markdown",
   "id": "3b6bec6f-25f6-4b5d-a1da-c1271e3a38d8",
   "metadata": {},
   "source": [
    "4. `__len__` → Defines behavior of len()."
   ]
  },
  {
   "cell_type": "code",
   "execution_count": 6,
   "id": "1edd5e1d-013f-4058-b223-9e31f3cc5861",
   "metadata": {},
   "outputs": [
    {
     "name": "stdout",
     "output_type": "stream",
     "text": [
      "3\n"
     ]
    }
   ],
   "source": [
    "class MyList:\n",
    "    def __init__(self, items):\n",
    "        self.items = items\n",
    "\n",
    "    def __len__(self):\n",
    "        return len(self.items)\n",
    "\n",
    "obj = MyList([1, 2, 3])\n",
    "print(len(obj))   "
   ]
  },
  {
   "cell_type": "markdown",
   "id": "7507a1da-dc28-46bd-81d2-748aaac4260b",
   "metadata": {},
   "source": [
    "**Common Dunder Methods**\n",
    "\n",
    "| Method        | Purpose                                    |\n",
    "| ------------- | ------------------------------------------ |\n",
    "| `__init__`    | Constructor (initialize object)            |\n",
    "| `__str__`     | String representation (`print()`)          |\n",
    "| `__repr__`    | Official representation (for developers)   |\n",
    "| `__len__`     | Behavior of `len()`                        |\n",
    "| `__add__`     | Defines `+` operator                       |\n",
    "| `__eq__`      | Defines `==` comparison                    |\n",
    "| `__getitem__` | Defines indexing (`obj[i]`)                |\n",
    "| `__setitem__` | Defines item assignment (`obj[i] = val`)   |\n",
    "| `__del__`     | Destructor (called when object is deleted) |\n"
   ]
  },
  {
   "cell_type": "markdown",
   "id": "1279716b-2a34-42f7-b9fa-f4cceee62fef",
   "metadata": {},
   "source": [
    "**6. Explain the concept of inheritance in OOP.**"
   ]
  },
  {
   "cell_type": "markdown",
   "id": "c7e2921f-26ac-4e63-bcbe-cf91f7091be1",
   "metadata": {},
   "source": [
    "**Inheritance in OOP**\n",
    "\n",
    "* Inheritance is a mechanism in OOP that allows one class (called the child class or derived class) to acquire the properties and behaviors of another class (called the parent class or base class).\n",
    "\n",
    "* It helps in reusing existing code, reducing redundancy, and establishing a logical class hierarchy.\n",
    "\n",
    "**Key Features of Inheritance**\n",
    "\n",
    "* A child class can use all the attributes and methods of its parent class.\n",
    "\n",
    "* It can also add new features of its own.\n",
    "\n",
    "* A child class can override parent class methods to provide a specialized version.\n",
    "\n",
    "**Types of Inheritance**\n",
    "\n",
    "**1. Single Inheritance →** One child inherits from one parent class.\n",
    "\n",
    "**2. Multiple Inheritance →** One child inherits from multiple parents.\n",
    "\n",
    "**3. Multilevel Inheritance →** Child inherits from parent, and another child inherits from that child.\n",
    "\n",
    "**4. Hierarchical Inheritance →** Multiple children inherit from one parent.\n",
    "\n",
    "**5. Hybrid Inheritance →** Combination of different types."
   ]
  },
  {
   "cell_type": "code",
   "execution_count": 8,
   "id": "9befa7bf-4ca8-4345-af5a-a2d9a5e04160",
   "metadata": {},
   "outputs": [
    {
     "name": "stdout",
     "output_type": "stream",
     "text": [
      "Buddy barks.\n",
      "kitty meows.\n"
     ]
    }
   ],
   "source": [
    "# Parent class\n",
    "\n",
    "class Animal:\n",
    "    def __init__(self, name):\n",
    "        self.name = name\n",
    "\n",
    "    def speak(self):\n",
    "        print(f\"{self.name} makes a sound.\")\n",
    "\n",
    "\n",
    "# child class inheriting from Animal\n",
    "\n",
    "class Dog(Animal):\n",
    "    def speak(self):   # method overriding\n",
    "        print(f\"{self.name} barks.\")\n",
    "\n",
    "# Another child class\n",
    "\n",
    "class cat(Animal):\n",
    "    def speak(self):\n",
    "        print(f\"{self.name} meows.\")\n",
    "\n",
    "# using objects\n",
    "dog = Dog(\"Buddy\")\n",
    "dog.speak()\n",
    "\n",
    "cat = cat(\"kitty\")\n",
    "cat.speak()"
   ]
  },
  {
   "cell_type": "markdown",
   "id": "f7bf7d34-3836-4050-9c59-4028a8c519d0",
   "metadata": {},
   "source": [
    "**7. What is polymorphism in OOP?**"
   ]
  },
  {
   "cell_type": "markdown",
   "id": "753f2572-1f76-43e9-adcb-98f2909b8ad6",
   "metadata": {},
   "source": [
    "In **Object-Oriented Programming (OOP)**, **polymorphism** means *\"many forms\"*.\n",
    "\n",
    "It allows objects of different classes to be treated through the same interface, where the specific behavior depends on the actual object.\n",
    "\n",
    "**Key Points:**\n",
    "\n",
    "- A **single function name** or **operator** can perform different tasks depending on the context.\n",
    "\n",
    "- In Python (and many OOP languages), polymorphism is mainly achieved through:\n",
    "\n",
    "  1. **Method Overriding (Run-time polymorphism):**  \n",
    "     A subclass provides a specific implementation of a method already defined in its parent class.\n",
    "\n",
    "  2. **Method Overloading (Compile-time polymorphism, limited in Python):**  \n",
    "     Having multiple methods with the same name but different parameters. Python handles this using default arguments or `*args, **kwargs`.\n",
    "\n",
    "  3. **Operator Overloading:**  \n",
    "     Same operator works differently for different data types (e.g., `+` adds numbers but concatenates strings).\n",
    "\n",
    "**Example 1: Method Overriding**"
   ]
  },
  {
   "cell_type": "code",
   "execution_count": 36,
   "id": "88838d9b-9d35-4a10-b72b-7aa47211b914",
   "metadata": {},
   "outputs": [
    {
     "name": "stdout",
     "output_type": "stream",
     "text": [
      "Bark\n",
      "Meow\n",
      "Some sound\n"
     ]
    }
   ],
   "source": [
    "class Animal:\n",
    "    def sound(self):\n",
    "        return \"Some sound\"\n",
    "\n",
    "class Dog(Animal):\n",
    "    def sound(self):  \n",
    "        return \"Bark\"\n",
    "\n",
    "class cat(Animal):\n",
    "    def sound(self):\n",
    "        return \"Meow\"\n",
    "\n",
    "animals = [Dog(), cat(),Animal()]\n",
    "for i in animals:\n",
    "    print(i.sound())"
   ]
  },
  {
   "cell_type": "markdown",
   "id": "9092f96a-c20d-4d76-8188-dbbad8a1bf5a",
   "metadata": {},
   "source": [
    "**Example 2: Method Overloading**"
   ]
  },
  {
   "cell_type": "code",
   "execution_count": 2,
   "id": "0d4cea30-eb5a-4bd1-a254-4b15386a3e97",
   "metadata": {},
   "outputs": [
    {
     "name": "stdout",
     "output_type": "stream",
     "text": [
      "5\n",
      "15\n",
      "35\n"
     ]
    }
   ],
   "source": [
    "class Calculator:\n",
    "    def add(self, a=0, b=0, c=0):\n",
    "        return a + b + c\n",
    "\n",
    "calc = Calculator()\n",
    "print(calc.add(5))         \n",
    "print(calc.add(5, 10))      \n",
    "print(calc.add(5, 10, 20))  \n"
   ]
  },
  {
   "cell_type": "markdown",
   "id": "df8fb95f-518e-4b44-8329-f0b0df227406",
   "metadata": {},
   "source": [
    "**8. How is encapsulation achieved in Python?**"
   ]
  },
  {
   "cell_type": "markdown",
   "id": "c1b32e19-b953-49cf-9230-8ee9661501d9",
   "metadata": {},
   "source": [
    "**Encapsulation in OOP**\n",
    "\n",
    "Encapsulation means bundling data (attributes) and methods (functions) into a single unit (class) and restricting direct access to some of the object's data.\n",
    "It helps in data hiding and protecting the internal state of an object."
   ]
  },
  {
   "cell_type": "markdown",
   "id": "65fc7984-036b-4e84-a9be-b764ec5c9b23",
   "metadata": {},
   "source": [
    "#### How Python Achieves Encapsulation\n",
    "\n",
    "Python doesn’t have strict access modifiers like private, protected, or public (as in Java or C++), but it follows naming conventions to achieve encapsulation:\n",
    "\n",
    "**1.Public Members**\n",
    "\n",
    "* Accessible from anywhere.\n",
    "\n",
    "* No underscore prefix."
   ]
  },
  {
   "cell_type": "code",
   "execution_count": 10,
   "id": "95fbfe0f-5a34-403d-91bd-bc0e91f23fc9",
   "metadata": {},
   "outputs": [
    {
     "name": "stdout",
     "output_type": "stream",
     "text": [
      "Manish\n"
     ]
    }
   ],
   "source": [
    "class Student:\n",
    "    def __init__(self, name):\n",
    "        self.name = name   # public attribute\n",
    "\n",
    "s = Student(\"Manish\")\n",
    "print(s.name)  \n"
   ]
  },
  {
   "cell_type": "markdown",
   "id": "bdb89c79-952b-4245-8411-9a7f46b21cec",
   "metadata": {},
   "source": [
    "**2. Protected Members (convention only)**\n",
    "\n",
    "* Prefix with single underscore _.\n",
    "\n",
    "* Should not be accessed outside the class (but still possible)."
   ]
  },
  {
   "cell_type": "code",
   "execution_count": 12,
   "id": "411590a8-6877-4dc9-acc2-ba30a7064343",
   "metadata": {},
   "outputs": [
    {
     "name": "stdout",
     "output_type": "stream",
     "text": [
      "Manish\n"
     ]
    }
   ],
   "source": [
    "class student:\n",
    "    def __init__(self,name,age):\n",
    "        self.name = name \n",
    "        self._age = age   # protected attribute\n",
    "\n",
    "s = student(\"Manish\",21)\n",
    "print(s.name)"
   ]
  },
  {
   "cell_type": "markdown",
   "id": "3730c633-5254-42b3-bcdc-66ab9e1cb104",
   "metadata": {},
   "source": [
    "**3. Private Members**\n",
    "\n",
    "* Prefix with double underscore __.\n",
    "\n",
    "* Name mangling makes it harder to access directly."
   ]
  },
  {
   "cell_type": "code",
   "execution_count": 23,
   "id": "26d14f4a-9501-4678-a27f-94a02879aa1c",
   "metadata": {},
   "outputs": [
    {
     "name": "stdout",
     "output_type": "stream",
     "text": [
      "90\n"
     ]
    }
   ],
   "source": [
    "class student:\n",
    "    def __init__(self,name,marks):\n",
    "        self.__marks = marks  # private attribute\n",
    "\n",
    "    def get_marks(self):\n",
    "        return self.__marks # public method to access private data\n",
    "\n",
    "s = student(\"Manish\", 90)\n",
    "print(s.get_marks())"
   ]
  },
  {
   "cell_type": "markdown",
   "id": "ed5646c7-d11d-47bc-a296-913296e1f038",
   "metadata": {},
   "source": [
    "The super() method in Python is used to call methods of the parent (superclass) inside a child (subclass).\n",
    "It’s most often used in inheritance to reuse the parent’s `__init__()` or other methods."
   ]
  },
  {
   "cell_type": "code",
   "execution_count": 24,
   "id": "dffcb379-81ff-457c-bcfa-db5827cc729d",
   "metadata": {},
   "outputs": [
    {
     "name": "stdout",
     "output_type": "stream",
     "text": [
      "Person created: Manish\n",
      "Student created: Manish, Roll No: 101\n"
     ]
    }
   ],
   "source": [
    "class Person:\n",
    "    def __init__(self, name):\n",
    "        self.name = name\n",
    "        print(f\"Person created: {self.name}\")\n",
    "\n",
    "class Student(Person):\n",
    "    def __init__(self, name, roll_no):\n",
    "        # call parent constructor\n",
    "        super().__init__(name)\n",
    "        self.roll_no = roll_no\n",
    "        print(f\"Student created: {self.name}, Roll No: {self.roll_no}\")\n",
    "\n",
    "# create object\n",
    "s = Student(\"Manish\", 101)\n"
   ]
  },
  {
   "cell_type": "markdown",
   "id": "80fe82ea-660b-42e4-bc3a-8f48fb86fc48",
   "metadata": {},
   "source": [
    "**9. What is a constructor in Python?**"
   ]
  },
  {
   "cell_type": "markdown",
   "id": "59dbd13d-3110-4c12-9d72-924389586586",
   "metadata": {},
   "source": [
    "In Python (and OOP in general), a constructor is a special method that is automatically called when an object of a class is created.\n",
    "It is mainly used to initialize object attributes (give them initial values).\n",
    "\n",
    "**Key Points:**\n",
    "\n",
    "* In Python, the constructor method is `__init__()`.\n",
    "\n",
    "* It runs automatically every time you create a new object.\n",
    "\n",
    "* It usually sets up instance variables."
   ]
  },
  {
   "cell_type": "code",
   "execution_count": 25,
   "id": "15a1b21a-3e3e-44d7-a688-7fc6582424d9",
   "metadata": {},
   "outputs": [
    {
     "name": "stdout",
     "output_type": "stream",
     "text": [
      "Constructor is called\n",
      "Manish 90\n"
     ]
    }
   ],
   "source": [
    "class Student:\n",
    "    def __init__(self, name, marks):\n",
    "        \n",
    "        # constructor initializes attributes\n",
    "        self.name = name\n",
    "        self.marks = marks\n",
    "        print(\"Constructor is called\")\n",
    "\n",
    "s1 = Student(\"Manish\", 90)   # object creation → calls constructor\n",
    "print(s1.name, s1.marks)\n"
   ]
  },
  {
   "cell_type": "markdown",
   "id": "f341aa89-ecf8-49c7-98f7-402953b73505",
   "metadata": {},
   "source": [
    "**Types of Constructors in Python**\n",
    "\n",
    "**1. Default Constructor →** Takes only self, no extra arguments."
   ]
  },
  {
   "cell_type": "code",
   "execution_count": 26,
   "id": "71bc0e5b-4152-420f-9a9f-409f2f4ebfac",
   "metadata": {},
   "outputs": [
    {
     "name": "stdout",
     "output_type": "stream",
     "text": [
      "Default constructor\n"
     ]
    }
   ],
   "source": [
    "class Demo:\n",
    "    def __init__(self):\n",
    "        print(\"Default constructor\")\n",
    "obj = Demo()\n"
   ]
  },
  {
   "cell_type": "markdown",
   "id": "79c4e0ec-766e-4e2f-8af5-dad1ef147818",
   "metadata": {},
   "source": [
    "**2. Parameterized Constructor →** Takes arguments to initialize attributes."
   ]
  },
  {
   "cell_type": "code",
   "execution_count": 31,
   "id": "a62e9942-2338-4f53-bfba-fe6b70144c3b",
   "metadata": {},
   "outputs": [],
   "source": [
    "class Demo:\n",
    "    def __init__(self, x, y):\n",
    "        self.x = x\n",
    "        self.y = y\n",
    "obj = Demo(10, 20)"
   ]
  },
  {
   "cell_type": "markdown",
   "id": "29f6bd74-f238-4a27-9f51-e6d95f4131e2",
   "metadata": {},
   "source": [
    "**10. What are class and static methods in Python?**"
   ]
  },
  {
   "cell_type": "markdown",
   "id": "3eecaea3-7e77-4ea0-a2c8-7632bac20293",
   "metadata": {},
   "source": [
    "In Python, besides instance methods (the usual methods that take self), we also have class methods and static methods.\n",
    "They are defined using decorators: `@classmethod` and `@staticmethod`.\n",
    "\n",
    "**1. Class Methods**\n",
    "\n",
    "* Declared with `@classmethod`.\n",
    "\n",
    "* First argument is cls (refers to the class itself, not the object).\n",
    "\n",
    "* Can access/modify class variables, but not instance variables directly.\n",
    "\n",
    "* Called using class name or object name.\n",
    "\n",
    "**Example:**"
   ]
  },
  {
   "cell_type": "code",
   "execution_count": 32,
   "id": "f817f049-f1d6-4d7e-abe5-124e63b69f87",
   "metadata": {},
   "outputs": [
    {
     "name": "stdout",
     "output_type": "stream",
     "text": [
      "ABC School\n",
      "ABC School\n"
     ]
    }
   ],
   "source": [
    "class Student:\n",
    "    school_name = \"ABC School\"  # class variable\n",
    "\n",
    "    def __init__(self, name):\n",
    "        self.name = name        # instance variable\n",
    "\n",
    "    @classmethod\n",
    "    def get_school_name(cls):\n",
    "        return cls.school_name\n",
    "\n",
    "# Call using class\n",
    "print(Student.get_school_name())  \n",
    "\n",
    "# Call using object\n",
    "s1 = Student(\"Manish\")\n",
    "print(s1.get_school_name())      \n"
   ]
  },
  {
   "cell_type": "markdown",
   "id": "2264323f-67be-4cd3-8628-d86d7e92a359",
   "metadata": {},
   "source": [
    "**2. Static Methods**\n",
    "\n",
    "* Declared with `@staticmethod`.\n",
    "\n",
    "* Do not take self or cls as the first argument.\n",
    "\n",
    "* Cannot access instance or class variables directly.\n",
    "\n",
    "* Used for utility/helper functions related to the class.\n",
    "\n",
    "**Example:**"
   ]
  },
  {
   "cell_type": "code",
   "execution_count": 35,
   "id": "f09375cc-48b6-4796-bd04-e5dd05033446",
   "metadata": {},
   "outputs": [
    {
     "name": "stdout",
     "output_type": "stream",
     "text": [
      "12\n"
     ]
    }
   ],
   "source": [
    "class MathUtils:\n",
    "    @staticmethod\n",
    "    def add(x, y):\n",
    "        return x + y\n",
    "\n",
    "print(MathUtils.add(5, 7))  \n"
   ]
  },
  {
   "cell_type": "markdown",
   "id": "a9e5b001-61ce-4554-83fa-08adbd5a9e26",
   "metadata": {},
   "source": [
    "**11. What is method overloading in Python?**"
   ]
  },
  {
   "cell_type": "markdown",
   "id": "2ad38453-5cc2-4801-89ca-48330bcef6a1",
   "metadata": {},
   "source": [
    "**Method Overloading (Compile-time polymorphism, limited in Python):**  \n",
    "Having multiple methods with the same name but different parameters. Python handles this using default arguments or `*args, **kwargs`."
   ]
  },
  {
   "cell_type": "code",
   "execution_count": 38,
   "id": "d993cf25-da5c-4b78-9bb3-1f5ea18ceae0",
   "metadata": {},
   "outputs": [
    {
     "name": "stdout",
     "output_type": "stream",
     "text": [
      "5\n",
      "10\n"
     ]
    }
   ],
   "source": [
    "class Calculator:\n",
    "    def add(self, *args):\n",
    "        return sum(args)\n",
    "\n",
    "calc = Calculator()\n",
    "print(calc.add(2, 3))          # 5\n",
    "print(calc.add(1, 2, 3, 4))    # 10\n"
   ]
  },
  {
   "cell_type": "markdown",
   "id": "dd20282a-0aad-4a7c-9e13-0f9eae6e03a9",
   "metadata": {},
   "source": [
    "**12. What is method overriding in OOP?**"
   ]
  },
  {
   "cell_type": "markdown",
   "id": "3819254b-8bb2-46de-abe7-74ae2cb0f552",
   "metadata": {},
   "source": [
    "Method overriding happens when a child (subclass) defines a method with the same name and parameters as a method in its parent (superclass).\n",
    "\n",
    "* The child’s method replaces (overrides) the parent’s version when called from the child object.\n",
    "\n",
    "* It is a form of runtime polymorphism."
   ]
  },
  {
   "cell_type": "code",
   "execution_count": 40,
   "id": "09a9a553-d7a4-4d1e-a919-fa5eb4831e56",
   "metadata": {},
   "outputs": [
    {
     "name": "stdout",
     "output_type": "stream",
     "text": [
      "Bark\n",
      "Meow\n",
      "Some sound\n"
     ]
    }
   ],
   "source": [
    "class Animal:\n",
    "    def sound(self):\n",
    "        return \"Some sound\"\n",
    "\n",
    "class Dog(Animal):\n",
    "    def sound(self):  \n",
    "        return \"Bark\"\n",
    "\n",
    "class cat(Animal):\n",
    "    def sound(self):\n",
    "        return \"Meow\"\n",
    "\n",
    "animals = [Dog(), cat(),Animal()]\n",
    "for i in animals:\n",
    "    print(i.sound())"
   ]
  },
  {
   "cell_type": "markdown",
   "id": "8e7f4b32-6330-4657-bb80-b9818a671aec",
   "metadata": {},
   "source": [
    "**13. What is a property decorator in Python?**"
   ]
  },
  {
   "cell_type": "markdown",
   "id": "e5fd43a7-63db-4687-8a49-de315cfd217a",
   "metadata": {},
   "source": [
    "#### Property Decorator in Python `(@property)`\n",
    "**What it is:**\n",
    "\n",
    "* In Python, the `@property` decorator is used to turn a method into an attribute-like property.\n",
    "\n",
    "* It allows us to access a method as if it were an attribute, without explicitly calling it with ().\n",
    "\n",
    "* Often used for encapsulation → controlling access to private variables (__var)."
   ]
  },
  {
   "cell_type": "code",
   "execution_count": 42,
   "id": "8cce9e0b-7460-4ee2-9c37-6c45da6ee363",
   "metadata": {},
   "outputs": [
    {
     "name": "stdout",
     "output_type": "stream",
     "text": [
      "85\n",
      "95\n",
      "Invalid marks! Must be between 0 and 100.\n"
     ]
    }
   ],
   "source": [
    "class Student:\n",
    "    def __init__(self, name, marks):\n",
    "        self.__name = name\n",
    "        self.__marks = marks\n",
    "\n",
    "    @property\n",
    "    def marks(self):   # getter method\n",
    "        return self.__marks\n",
    "\n",
    "    @marks.setter\n",
    "    def marks(self, value):   # setter method\n",
    "        if 0 <= value <= 100:\n",
    "            self.__marks = value\n",
    "        else:\n",
    "            print(\"Invalid marks! Must be between 0 and 100.\")\n",
    "\n",
    "s = Student(\"Manish\", 85)\n",
    "\n",
    "print(s.marks)     # Access like attribute (getter) → 85\n",
    "s.marks = 95       # Update like attribute (setter)\n",
    "print(s.marks)     # → 95\n",
    "s.marks = 150      # Invalid, won’t update\n"
   ]
  },
  {
   "cell_type": "markdown",
   "id": "54cd3650-8012-4964-ac01-58f161afc2e5",
   "metadata": {},
   "source": [
    "**14. Why is polymorphism important in OOP?**"
   ]
  },
  {
   "cell_type": "markdown",
   "id": "c5a2743c-131d-4cc8-b34b-a306166b604e",
   "metadata": {},
   "source": [
    "**Importance of Polymorphism in OOP**  \n",
    "\n",
    "- **Code Reusability** → Same interface works for different data types/classes.  \n",
    "- **Flexibility** → Objects can be used interchangeably without changing code.  \n",
    "- **Extensibility** → New classes can be added without modifying existing code.  \n",
    "- **Readability & Maintainability** → Cleaner and simpler code design.  \n",
    "- **Supports Runtime Behavior** → Enables dynamic method resolution (method overriding).  \n"
   ]
  },
  {
   "cell_type": "markdown",
   "id": "fdfedd73-9d68-4088-a788-372314c96c06",
   "metadata": {},
   "source": [
    "**15. What is an Abstract Class in Python?**  \n",
    "- An abstract class is a class that cannot be instantiated directly.  \n",
    "- It may contain one or more **abstract methods** (methods without implementation).  \n",
    "- Defined using the `abc` module (`ABC` and `@abstractmethod`).  \n",
    "- Child classes must provide implementations for abstract methods.  \n",
    "- Useful for defining a **blueprint** for other classes.  "
   ]
  },
  {
   "cell_type": "code",
   "execution_count": 43,
   "id": "ac024bd5-54d0-4b6e-97f6-04280fb186a3",
   "metadata": {},
   "outputs": [
    {
     "name": "stdout",
     "output_type": "stream",
     "text": [
      "78.5\n"
     ]
    }
   ],
   "source": [
    "from abc import ABC, abstractmethod\n",
    "\n",
    "class Shape(ABC):\n",
    "    @abstractmethod\n",
    "    def area(self):\n",
    "        pass\n",
    "\n",
    "class Circle(Shape):\n",
    "    def __init__(self, radius):\n",
    "        self.radius = radius\n",
    "    \n",
    "    def area(self):\n",
    "        return 3.14 * self.radius * self.radius\n",
    "\n",
    "c = Circle(5)\n",
    "print(c.area())  "
   ]
  },
  {
   "cell_type": "markdown",
   "id": "e08375cb-223a-419b-8871-0847cc8cd2ee",
   "metadata": {},
   "source": [
    "**16. What are the Advantages of OOP?**  \n",
    "- **Modularity** → Code is organized into classes/objects.  \n",
    "- **Reusability** → Inheritance allows reusing existing code.  \n",
    "- **Encapsulation** → Protects data by restricting direct access.  \n",
    "- **Polymorphism** → Same interface can work for different data types.  \n",
    "- **Maintainability** → Easier to update and manage large projects.  "
   ]
  },
  {
   "cell_type": "code",
   "execution_count": 44,
   "id": "a2ebc0ce-c940-4e53-8d22-182f5d3f636f",
   "metadata": {},
   "outputs": [
    {
     "name": "stdout",
     "output_type": "stream",
     "text": [
      "Bark\n",
      "Meow\n"
     ]
    }
   ],
   "source": [
    "class Animal:\n",
    "    def speak(self):\n",
    "        return \"Some sound\"\n",
    "\n",
    "class Dog(Animal):\n",
    "    def speak(self):\n",
    "        return \"Bark\"\n",
    "\n",
    "class Cat(Animal):\n",
    "    def speak(self):\n",
    "        return \"Meow\"\n",
    "\n",
    "animals = [Dog(), Cat()]\n",
    "for a in animals:\n",
    "    print(a.speak())"
   ]
  },
  {
   "cell_type": "markdown",
   "id": "a095db14-4439-40aa-bb17-819193982fdd",
   "metadata": {},
   "source": [
    "**17. Difference Between a Class Variable and an Instance Variable**  \n",
    "- **Class Variable** → Shared by all objects of the class (declared inside class but outside methods).  \n",
    "- **Instance Variable** → Unique to each object (defined inside `__init__` using `self`).  \n",
    "- **Class Variable** is accessed using `ClassName.var` or `self.var`.  \n",
    "- **Instance Variable** is accessed only through the specific object.  "
   ]
  },
  {
   "cell_type": "code",
   "execution_count": 45,
   "id": "680384c9-06a1-4efe-869d-868fbd2a66b8",
   "metadata": {},
   "outputs": [
    {
     "name": "stdout",
     "output_type": "stream",
     "text": [
      "Manish ABC School\n",
      "Rahul ABC School\n"
     ]
    }
   ],
   "source": [
    "class Student:\n",
    "    school = \"ABC School\"  # class variable\n",
    "    \n",
    "    def __init__(self, name):\n",
    "        self.name = name   # instance variable\n",
    "\n",
    "s1 = Student(\"Manish\")\n",
    "s2 = Student(\"Rahul\")\n",
    "\n",
    "print(s1.name, s1.school)  \n",
    "print(s2.name, s2.school)  "
   ]
  },
  {
   "cell_type": "markdown",
   "id": "294d7ca7-6c97-4fca-b769-7977083f9c6c",
   "metadata": {},
   "source": [
    "**18. What is Multiple Inheritance in Python?**  \n",
    "- Multiple inheritance means a class can inherit from **more than one parent class**.  \n",
    "- Allows a child class to access features of multiple parents.  \n",
    "- Declared as: `class Child(Parent1, Parent2): ...`.  \n",
    "- Python resolves conflicts using **Method Resolution Order (MRO)**.  \n",
    "- Powerful, but can make code complex if overused.  "
   ]
  },
  {
   "cell_type": "code",
   "execution_count": 46,
   "id": "7efc85ff-83ec-4751-bd9e-e2960ea7645c",
   "metadata": {},
   "outputs": [
    {
     "name": "stdout",
     "output_type": "stream",
     "text": [
      "Parent1 method\n",
      "Parent2 method\n",
      "Child method\n"
     ]
    }
   ],
   "source": [
    "class Parent1:\n",
    "    def show1(self):\n",
    "        print(\"Parent1 method\")\n",
    "\n",
    "class Parent2:\n",
    "    def show2(self):\n",
    "        print(\"Parent2 method\")\n",
    "\n",
    "class Child(Parent1, Parent2):\n",
    "    def show3(self):\n",
    "        print(\"Child method\")\n",
    "\n",
    "c = Child()\n",
    "c.show1()  \n",
    "c.show2()  \n",
    "c.show3()  \n"
   ]
  },
  {
   "cell_type": "markdown",
   "id": "d8dd6593-6f5b-4682-a58d-ed17aa9e958e",
   "metadata": {},
   "source": [
    "**19. Explain the purpose of `__str__` and `__repr__` methods in Python**  \n",
    "- Both are **special methods** used for string representation of objects.  \n",
    "- `__str__` → Used by `print()` and `str()` → user-friendly representation.  \n",
    "- `__repr__` → Used by `repr()` and in the interpreter → developer/debugging representation.  \n"
   ]
  },
  {
   "cell_type": "markdown",
   "id": "d8a19052-236a-486c-82b1-a44f36d6b38a",
   "metadata": {},
   "source": [
    "**20. What is the significance of the super() function in Python?**\n",
    "\n",
    "🔹 super() is used to call a method from the parent class inside a child class.\n",
    "\n",
    "🔹 Helps reuse parent methods (like `__init__`) without rewriting code.\n",
    "\n",
    "🔹 Supports multiple inheritance by following the MRO (Method Resolution Order)."
   ]
  },
  {
   "cell_type": "code",
   "execution_count": 50,
   "id": "0362ed02-d70f-4bf3-bf57-8fbefb6db24e",
   "metadata": {},
   "outputs": [
    {
     "name": "stdout",
     "output_type": "stream",
     "text": [
      "Manish 101\n"
     ]
    }
   ],
   "source": [
    "class Person:\n",
    "    def __init__(self, name):\n",
    "        self.name = name\n",
    "\n",
    "class Student(Person):\n",
    "    def __init__(self, name, roll_no):\n",
    "        super().__init__(name)  # call parent constructor\n",
    "        self.roll_no = roll_no\n",
    "\n",
    "s = Student(\"Manish\", 101)\n",
    "print(s.name, s.roll_no)  \n"
   ]
  },
  {
   "cell_type": "markdown",
   "id": "05005ce2-7666-4be1-b6ea-8395a3025237",
   "metadata": {},
   "source": [
    "**21. What is the significance of the `__del__` method in Python?**\n",
    "\n",
    "🔹 __del__ is a destructor method, called when an object is about to be destroyed.\n",
    "\n",
    "🔹 Used to release resources (like files or database connections).\n",
    "\n",
    "🔹 Runs automatically when the object’s reference count reaches zero."
   ]
  },
  {
   "cell_type": "code",
   "execution_count": 51,
   "id": "ff5f1e82-dc1f-49a1-a4bf-6a44b86a0a51",
   "metadata": {},
   "outputs": [
    {
     "name": "stdout",
     "output_type": "stream",
     "text": [
      "Destructor called, object deleted\n"
     ]
    }
   ],
   "source": [
    "class Demo:\n",
    "    def __del__(self):\n",
    "        print(\"Destructor called, object deleted\")\n",
    "\n",
    "d = Demo()\n",
    "del d   "
   ]
  },
  {
   "cell_type": "markdown",
   "id": "60a990d5-c2c6-4ce6-a372-b5770eb3c850",
   "metadata": {},
   "source": [
    "**22. What is the difference between `@staticmethod` and `@classmethod` in Python?**\n",
    "\n",
    "| Feature                | `@staticmethod`                        | `@classmethod`                           |\n",
    "| ---------------------- | -------------------------------------- | ---------------------------------------- |\n",
    "| **First Parameter**    | Does **not** take `self` or `cls`      | Takes `cls` (class itself)               |\n",
    "| **Access to Instance** | ❌ Cannot access instance variables     | ❌ Cannot access instance variables       |\n",
    "| **Access to Class**    | ❌ Cannot access class variables        | ✅ Can access class variables             |\n",
    "| **Use Case**           | Utility/helper functions               | Operations that involve the class itself |\n",
    "| **Calling**            | `ClassName.method()` or `obj.method()` | `ClassName.method()` or `obj.method()`   |\n"
   ]
  },
  {
   "cell_type": "code",
   "execution_count": 53,
   "id": "f15bb6cb-de60-4f1c-8eaf-a8dbb862d910",
   "metadata": {},
   "outputs": [
    {
     "name": "stdout",
     "output_type": "stream",
     "text": [
      "Hi Manish\n",
      "Hello\n"
     ]
    }
   ],
   "source": [
    "class MyClass:\n",
    "    class_var = \"Hello\"\n",
    "\n",
    "    @staticmethod\n",
    "    def greet(name):\n",
    "        return f\"Hi {name}\"\n",
    "\n",
    "    @classmethod\n",
    "    def get_class_var(cls):\n",
    "        return cls.class_var\n",
    "\n",
    "print(MyClass.greet(\"Manish\"))     \n",
    "print(MyClass.get_class_var())     "
   ]
  },
  {
   "cell_type": "markdown",
   "id": "73f5aaba-eeea-4920-9495-75aab1aec4ba",
   "metadata": {},
   "source": [
    "**23. How does polymorphism work in Python with inheritance?**\n",
    "\n",
    "🔹 Polymorphism allows the same method name to behave differently in different classes.\n",
    "\n",
    "🔹 Achieved via method overriding in inheritance."
   ]
  },
  {
   "cell_type": "code",
   "execution_count": 54,
   "id": "01ff39a4-d0c3-46aa-a2d8-95a6f7a8516f",
   "metadata": {},
   "outputs": [
    {
     "name": "stdout",
     "output_type": "stream",
     "text": [
      "Bark\n",
      "Meow\n",
      "Some sound\n"
     ]
    }
   ],
   "source": [
    "class Animal:\n",
    "    def sound(self):\n",
    "        return \"Some sound\"\n",
    "\n",
    "class Dog(Animal):\n",
    "    def sound(self):\n",
    "        return \"Bark\"\n",
    "\n",
    "class Cat(Animal):\n",
    "    def sound(self):\n",
    "        return \"Meow\"\n",
    "\n",
    "animals = [Dog(), Cat(), Animal()]\n",
    "for a in animals:\n",
    "    print(a.sound())\n"
   ]
  },
  {
   "cell_type": "markdown",
   "id": "10708bf6-3af4-4aa5-8d45-bdfb920912e8",
   "metadata": {},
   "source": [
    "**24.What is method chaining in Python OOP?**\n",
    "\n",
    "🔹 Method chaining allows calling multiple methods in a single line.\n",
    "\n",
    "🔹 Each method returns self, so the object can be reused for the next call."
   ]
  },
  {
   "cell_type": "code",
   "execution_count": 55,
   "id": "087ffc8e-5a7b-49b9-976a-7b89301dbd90",
   "metadata": {},
   "outputs": [
    {
     "name": "stdout",
     "output_type": "stream",
     "text": [
      "50\n"
     ]
    }
   ],
   "source": [
    "class Calculator:\n",
    "    def __init__(self, value=0):\n",
    "        self.value = value\n",
    "\n",
    "    def add(self, num):\n",
    "        self.value += num\n",
    "        return self   # return self for chaining\n",
    "\n",
    "    def multiply(self, num):\n",
    "        self.value *= num\n",
    "        return self\n",
    "\n",
    "    def result(self):\n",
    "        return self.value\n",
    "\n",
    "calc = Calculator()\n",
    "print(calc.add(5).multiply(10).result())  # (0+5)*10 = 50\n"
   ]
  },
  {
   "cell_type": "markdown",
   "id": "3fc6deb0-2a03-4bbe-8e7b-6f486ec9b087",
   "metadata": {},
   "source": [
    "**25. What is the purpose of the `__call__` method in Python?**\n",
    "\n",
    "🔹 The `__call__` method makes an object callable like a function.\n",
    "\n",
    "🔹 Used in decorators, wrappers, and custom callable objects."
   ]
  },
  {
   "cell_type": "code",
   "execution_count": 56,
   "id": "26a96df5-2c64-47ff-8320-fb7a02c0b010",
   "metadata": {},
   "outputs": [
    {
     "name": "stdout",
     "output_type": "stream",
     "text": [
      "Hello, Manish!\n"
     ]
    }
   ],
   "source": [
    "class Greeter:\n",
    "    def __init__(self, greeting):\n",
    "        self.greeting = greeting\n",
    "\n",
    "    def __call__(self, name):\n",
    "        return f\"{self.greeting}, {name}!\"\n",
    "\n",
    "g = Greeter(\"Hello\")\n",
    "print(g(\"Manish\")) "
   ]
  },
  {
   "cell_type": "markdown",
   "id": "78613bed-c3ae-4559-b980-8a49b4000f58",
   "metadata": {},
   "source": [
    "### Practical Questions"
   ]
  },
  {
   "cell_type": "markdown",
   "id": "58036bd8-2c3e-46a0-8ecd-31b85a2bb11c",
   "metadata": {},
   "source": [
    "**1. Create a parent class Animal with a method speak() that prints a generic message. Create a child class Dog that overrides the speak() method to print \"Bark!\".**"
   ]
  },
  {
   "cell_type": "code",
   "execution_count": 57,
   "id": "d54bb463-11ea-454d-90a5-3eb1efb0b81f",
   "metadata": {},
   "outputs": [
    {
     "name": "stdout",
     "output_type": "stream",
     "text": [
      "This animal makes a sound\n",
      "Bark!\n"
     ]
    }
   ],
   "source": [
    "# Parent class\n",
    "class Animal:\n",
    "    def speak(self):\n",
    "        print(\"This animal makes a sound\")\n",
    "\n",
    "# Child class that overrides the speak method\n",
    "class Dog(Animal):\n",
    "    def speak(self):\n",
    "        print(\"Bark!\")\n",
    "\n",
    "# Test\n",
    "a = Animal()\n",
    "a.speak()  \n",
    "\n",
    "d = Dog()\n",
    "d.speak()  \n"
   ]
  },
  {
   "cell_type": "markdown",
   "id": "696b5e87-c9bc-47f7-ae83-cbd22750c649",
   "metadata": {},
   "source": [
    "**2. Write a program to create an abstract class Shape with a method area(). Derive classes Circle and Rectangle from it and implement the area() method in both.**"
   ]
  },
  {
   "cell_type": "code",
   "execution_count": 58,
   "id": "5f55bdf9-8879-4ebf-b5e7-69ab218f8417",
   "metadata": {},
   "outputs": [
    {
     "name": "stdout",
     "output_type": "stream",
     "text": [
      "78.5\n",
      "24\n"
     ]
    }
   ],
   "source": [
    "from abc import ABC, abstractmethod\n",
    "\n",
    "class Shape(ABC):\n",
    "    @abstractmethod\n",
    "    def area(self):\n",
    "        pass\n",
    "\n",
    "class Circle(Shape):\n",
    "    def __init__(self, r): \n",
    "        self.r = r\n",
    "    def area(self): \n",
    "        return 3.14 * self.r ** 2\n",
    "\n",
    "class Rectangle(Shape):\n",
    "    def __init__(self, l, w): \n",
    "        self.l, self.w = l, w\n",
    "    def area(self): \n",
    "        return self.l * self.w\n",
    "\n",
    "# Test\n",
    "print(Circle(5).area())     \n",
    "print(Rectangle(4, 6).area())"
   ]
  },
  {
   "cell_type": "markdown",
   "id": "8b65b216-b7f8-42a2-bf27-b2738c056351",
   "metadata": {},
   "source": [
    "**3. Implement a multi-level inheritance scenario where a class Vehicle has an attribute type. Derive a class Car and further derive a class ElectricCar that adds a battery attribute.**"
   ]
  },
  {
   "cell_type": "code",
   "execution_count": 60,
   "id": "c4cb1950-a3ad-4dad-8a52-b9a01d45ef94",
   "metadata": {},
   "outputs": [
    {
     "name": "stdout",
     "output_type": "stream",
     "text": [
      "Car Tesla Model S 100 kWh\n"
     ]
    }
   ],
   "source": [
    "class Vehicle:\n",
    "    def __init__(self, v_type):\n",
    "        self.type = v_type\n",
    "\n",
    "class Car(Vehicle):\n",
    "    def __init__(self, v_type, model):\n",
    "        super().__init__(v_type)\n",
    "        self.model = model\n",
    "\n",
    "class ElectricCar(Car):\n",
    "    def __init__(self, v_type, model, battery):\n",
    "        super().__init__(v_type, model)\n",
    "        self.battery = battery\n",
    "\n",
    "\n",
    "e_car = ElectricCar(\"Car\", \"Tesla Model S\", \"100 kWh\")\n",
    "print(e_car.type, e_car.model, e_car.battery)"
   ]
  },
  {
   "cell_type": "markdown",
   "id": "aaad6f89-5de7-4f11-9755-d3facaabe7fd",
   "metadata": {},
   "source": [
    "**4. Demonstrate polymorphism by creating a base class Bird with a method fly(). Create two derived classes Sparrow and Penguin that override the fly() method.**"
   ]
  },
  {
   "cell_type": "code",
   "execution_count": 61,
   "id": "297e88cb-7e76-479d-b07f-cef64cb630e0",
   "metadata": {},
   "outputs": [
    {
     "name": "stdout",
     "output_type": "stream",
     "text": [
      "Sparrow flies high\n",
      "Penguin cannot fly\n",
      "Bird can fly\n"
     ]
    }
   ],
   "source": [
    "class Bird:\n",
    "    def fly(self):\n",
    "        print(\"Bird can fly\")\n",
    "\n",
    "class Sparrow(Bird):\n",
    "    def fly(self):\n",
    "        print(\"Sparrow flies high\")\n",
    "\n",
    "class Penguin(Bird):\n",
    "    def fly(self):\n",
    "        print(\"Penguin cannot fly\")\n",
    "\n",
    "# Test\n",
    "birds = [Sparrow(), Penguin(), Bird()]\n",
    "for b in birds:\n",
    "    b.fly()"
   ]
  },
  {
   "cell_type": "markdown",
   "id": "1605bfa8-4cb8-4c56-add3-cf5ec3609e00",
   "metadata": {},
   "source": [
    "**5. Write a program to demonstrate encapsulation by creating a class BankAccount with private attributes balance and methods to deposit, withdraw, and check balance.**"
   ]
  },
  {
   "cell_type": "code",
   "execution_count": 63,
   "id": "3739be66-638d-4625-8372-b73685b04a78",
   "metadata": {},
   "outputs": [
    {
     "name": "stdout",
     "output_type": "stream",
     "text": [
      "1200\n"
     ]
    }
   ],
   "source": [
    "class BankAccount:\n",
    "    def __init__(self, balance):\n",
    "        self.__balance = balance  # private attribute\n",
    "\n",
    "    def deposit(self, amount):\n",
    "        if amount > 0:\n",
    "            self.__balance += amount\n",
    "\n",
    "    def withdraw(self, amount):\n",
    "        if 0 < amount <= self.__balance:\n",
    "            self.__balance -= amount\n",
    "        else:\n",
    "            print(\"Insufficient balance\")\n",
    "\n",
    "    def check_balance(self):\n",
    "        return self.__balance\n",
    "\n",
    "# Test\n",
    "account = BankAccount(1000)\n",
    "account.deposit(500)\n",
    "account.withdraw(300)\n",
    "print(account.check_balance()) "
   ]
  },
  {
   "cell_type": "markdown",
   "id": "3f4442c9-9d55-4e12-9679-12b21c0d0f9f",
   "metadata": {},
   "source": [
    "**6. Demonstrate runtime polymorphism using a method play() in a base class Instrument. Derive classes Guitar and Piano that implement their own version of play().**"
   ]
  },
  {
   "cell_type": "code",
   "execution_count": 64,
   "id": "9330c435-7438-431f-b502-3201d1b7ceef",
   "metadata": {},
   "outputs": [
    {
     "name": "stdout",
     "output_type": "stream",
     "text": [
      "Playing guitar chords\n",
      "Playing piano notes\n",
      "Playing instrument\n"
     ]
    }
   ],
   "source": [
    "class Instrument:\n",
    "    def play(self):\n",
    "        print(\"Playing instrument\")\n",
    "\n",
    "class Guitar(Instrument):\n",
    "    def play(self):\n",
    "        print(\"Playing guitar chords\")\n",
    "\n",
    "class Piano(Instrument):\n",
    "    def play(self):\n",
    "        print(\"Playing piano notes\")\n",
    "\n",
    "# Test\n",
    "instruments = [Guitar(), Piano(), Instrument()]\n",
    "for inst in instruments:\n",
    "    inst.play()"
   ]
  },
  {
   "cell_type": "markdown",
   "id": "25a94e29-9c1d-4a29-a02a-5a42708f926f",
   "metadata": {},
   "source": [
    "**7. Create a class MathOperations with a class method add_numbers() to add two numbers and a static method subtract_numbers() to subtract two numbers.**"
   ]
  },
  {
   "cell_type": "code",
   "execution_count": 65,
   "id": "c4030e8f-ac3e-47c3-a776-412dc28674a9",
   "metadata": {},
   "outputs": [
    {
     "name": "stdout",
     "output_type": "stream",
     "text": [
      "15\n",
      "5\n"
     ]
    }
   ],
   "source": [
    "class MathOperations:\n",
    "    @classmethod\n",
    "    def add_numbers(cls, a, b):\n",
    "        return a + b\n",
    "\n",
    "    @staticmethod\n",
    "    def subtract_numbers(a, b):\n",
    "        return a - b\n",
    "\n",
    "# Test\n",
    "print(MathOperations.add_numbers(10, 5))      \n",
    "print(MathOperations.subtract_numbers(10, 5))"
   ]
  },
  {
   "cell_type": "markdown",
   "id": "d92ea3b8-aacb-479e-9f73-67bff2bacab8",
   "metadata": {},
   "source": [
    "**8. Implement a class Person with a class method to count the total number of persons created.**"
   ]
  },
  {
   "cell_type": "code",
   "execution_count": 66,
   "id": "a41b629a-b173-4b16-91d9-7c986c708d47",
   "metadata": {},
   "outputs": [
    {
     "name": "stdout",
     "output_type": "stream",
     "text": [
      "3\n"
     ]
    }
   ],
   "source": [
    "class Person:\n",
    "    count = 0  # class variable to track total persons\n",
    "\n",
    "    def __init__(self, name):\n",
    "        self.name = name\n",
    "        Person.increment_count()\n",
    "\n",
    "    @classmethod\n",
    "    def increment_count(cls):\n",
    "        cls.count += 1\n",
    "\n",
    "# Test\n",
    "p1 = Person(\"Manish\")\n",
    "p2 = Person(\"Rahul\")\n",
    "p3 = Person(\"Amit\")\n",
    "\n",
    "print(Person.count)  \n"
   ]
  },
  {
   "cell_type": "markdown",
   "id": "4cb8a692-99e9-4d57-8507-201e1b1ab19a",
   "metadata": {},
   "source": [
    "**9. Write a class Fraction with attributes numerator and denominator. Override the str method to display the fraction as \"numerator/denominator\".**"
   ]
  },
  {
   "cell_type": "code",
   "execution_count": 67,
   "id": "20b610ff-6898-4083-b581-07df94bd66ba",
   "metadata": {},
   "outputs": [
    {
     "name": "stdout",
     "output_type": "stream",
     "text": [
      "3/4\n",
      "5/8\n"
     ]
    }
   ],
   "source": [
    "class Fraction:\n",
    "    def __init__(self, numerator, denominator):\n",
    "        self.numerator = numerator\n",
    "        self.denominator = denominator\n",
    "\n",
    "    def __str__(self):\n",
    "        return f\"{self.numerator}/{self.denominator}\"\n",
    "\n",
    "# Test\n",
    "f1 = Fraction(3, 4)\n",
    "f2 = Fraction(5, 8)\n",
    "\n",
    "print(f1)  \n",
    "print(f2) "
   ]
  },
  {
   "cell_type": "markdown",
   "id": "68e9c633-1df8-4699-9331-54f152522ea9",
   "metadata": {},
   "source": [
    "**10. Demonstrate operator overloading by creating a class Vector and overriding the add method to add two vectors.**"
   ]
  },
  {
   "cell_type": "code",
   "execution_count": 68,
   "id": "e6eab3ad-ee19-4dba-980c-635d51d2db05",
   "metadata": {},
   "outputs": [
    {
     "name": "stdout",
     "output_type": "stream",
     "text": [
      "(6, 8)\n"
     ]
    }
   ],
   "source": [
    "class Vector:\n",
    "    def __init__(self, x, y):\n",
    "        self.x = x\n",
    "        self.y = y\n",
    "\n",
    "    # Overload the + operator\n",
    "    def __add__(self, other):\n",
    "        return Vector(self.x + other.x, self.y + other.y)\n",
    "\n",
    "    # For readable output\n",
    "    def __str__(self):\n",
    "        return f\"({self.x}, {self.y})\"\n",
    "\n",
    "# Test\n",
    "v1 = Vector(2, 3)\n",
    "v2 = Vector(4, 5)\n",
    "v3 = v1 + v2  # Calls __add__\n",
    "print(v3)  "
   ]
  },
  {
   "cell_type": "markdown",
   "id": "3bec59c1-4f61-41e5-9a27-d53cf5764bbe",
   "metadata": {},
   "source": [
    "**11. Create a class Person with attributes name and age. Add a method greet() that prints \"Hello, my name is {name} and I am {age} years old.\"**"
   ]
  },
  {
   "cell_type": "code",
   "execution_count": 69,
   "id": "6f887919-cc0d-47c0-b0f4-16b07a4a81d2",
   "metadata": {},
   "outputs": [
    {
     "name": "stdout",
     "output_type": "stream",
     "text": [
      "Hello, my name is Manish and I am 25 years old.\n"
     ]
    }
   ],
   "source": [
    "class Person:\n",
    "    def __init__(self, name, age):\n",
    "        self.name = name\n",
    "        self.age = age\n",
    "\n",
    "    def greet(self):\n",
    "        print(f\"Hello, my name is {self.name} and I am {self.age} years old.\")\n",
    "\n",
    "# Test\n",
    "p1 = Person(\"Manish\", 25)\n",
    "p1.greet()  "
   ]
  },
  {
   "cell_type": "markdown",
   "id": "cfbd2bba-4135-4ace-a45a-590c17002aaf",
   "metadata": {},
   "source": [
    "**12. Implement a class Student with attributes name and grades. Create a method average_grade() to compute the average of the grades.**"
   ]
  },
  {
   "cell_type": "code",
   "execution_count": 70,
   "id": "b85a8824-1153-40f4-9924-e481d90d4afe",
   "metadata": {},
   "outputs": [
    {
     "name": "stdout",
     "output_type": "stream",
     "text": [
      "Manish's average grade: 84.33333333333333\n"
     ]
    }
   ],
   "source": [
    "class Student:\n",
    "    def __init__(self, name, grades):\n",
    "        self.name = name\n",
    "        self.grades = grades  # list of grades\n",
    "\n",
    "    def average_grade(self):\n",
    "        if self.grades:\n",
    "            return sum(self.grades) / len(self.grades)\n",
    "        return 0\n",
    "\n",
    "# Test\n",
    "s1 = Student(\"Manish\", [85, 90, 78])\n",
    "print(f\"{s1.name}'s average grade: {s1.average_grade()}\") "
   ]
  },
  {
   "cell_type": "markdown",
   "id": "8b364a42-00be-4497-893e-a9033ff01ae1",
   "metadata": {},
   "source": [
    "**13. Create a class Rectangle with methods set_dimensions() to set the dimensions and area() to calculate the area.**"
   ]
  },
  {
   "cell_type": "code",
   "execution_count": 71,
   "id": "20f66ef1-e58b-4a3d-afe8-3de11f8bd118",
   "metadata": {},
   "outputs": [
    {
     "name": "stdout",
     "output_type": "stream",
     "text": [
      "Area of rectangle: 20\n"
     ]
    }
   ],
   "source": [
    "class Rectangle:\n",
    "    def __init__(self):\n",
    "        self.length = 0\n",
    "        self.width = 0\n",
    "\n",
    "    def set_dimensions(self, length, width):\n",
    "        self.length = length\n",
    "        self.width = width\n",
    "        return self  # for method chaining (optional)\n",
    "\n",
    "    def area(self):\n",
    "        return self.length * self.width\n",
    "\n",
    "# Test\n",
    "rect = Rectangle()\n",
    "rect.set_dimensions(5, 4)\n",
    "print(f\"Area of rectangle: {rect.area()}\") "
   ]
  },
  {
   "cell_type": "markdown",
   "id": "4b0d463f-19df-4d37-84b0-81b704351717",
   "metadata": {},
   "source": [
    "**14. Create a class Employee with a method calculate_salary() that computes the salary based on hours worked and hourly rate. Create a derived class Manager that adds a bonus to the salary.**"
   ]
  },
  {
   "cell_type": "code",
   "execution_count": 72,
   "id": "9c97d9de-3160-4147-844f-29763e21ed05",
   "metadata": {},
   "outputs": [
    {
     "name": "stdout",
     "output_type": "stream",
     "text": [
      "Rahul's salary: 22000\n"
     ]
    }
   ],
   "source": [
    "class Employee:\n",
    "    def __init__(self, name, hours_worked, hourly_rate):\n",
    "        self.name = name\n",
    "        self.hours_worked = hours_worked\n",
    "        self.hourly_rate = hourly_rate\n",
    "\n",
    "    def calculate_salary(self):\n",
    "        return self.hours_worked * self.hourly_rate\n",
    "\n",
    "class Manager(Employee):\n",
    "    def __init__(self, name, hours_worked, hourly_rate, bonus):\n",
    "        super().__init__(name, hours_worked, hourly_rate)\n",
    "        self.bonus = bonus\n",
    "\n",
    "    def calculate_salary(self):\n",
    "        base_salary = super().calculate_salary()\n",
    "        return base_salary + self.bonus\n",
    "\n",
    "# Test\n",
    "e = Employee(\"Manish\", 40, 500)\n",
    "m = Manager(\"Rahul\", 40, 500, 2000)\n",
    "\n",
    "print(f\"{m.name}'s salary: {m.calculate_salary()}\") \n"
   ]
  },
  {
   "cell_type": "markdown",
   "id": "8b5bf68c-b219-4afc-9fc5-ab3c23201423",
   "metadata": {},
   "source": [
    "**15. Create a class Product with attributes name, price, and quantity. Implement a method total_price() that calculates the total price of the product.**"
   ]
  },
  {
   "cell_type": "code",
   "execution_count": 73,
   "id": "44a0530e-1ef8-4429-95ad-a65bb175de47",
   "metadata": {},
   "outputs": [
    {
     "name": "stdout",
     "output_type": "stream",
     "text": [
      "Total price of Laptop: 100000\n"
     ]
    }
   ],
   "source": [
    "class Product:\n",
    "    def __init__(self, name, price, quantity):\n",
    "        self.name = name\n",
    "        self.price = price\n",
    "        self.quantity = quantity\n",
    "\n",
    "    def total_price(self):\n",
    "        return self.price * self.quantity\n",
    "\n",
    "# Test\n",
    "p1 = Product(\"Laptop\", 50000, 2)\n",
    "print(f\"Total price of {p1.name}: {p1.total_price()}\")  \n"
   ]
  },
  {
   "cell_type": "markdown",
   "id": "ca8da923-4847-4cc5-a250-e8576c0e8f47",
   "metadata": {},
   "source": [
    "**16. Create a class Animal with an abstract method sound(). Create two derived classes Cow and Sheep that implement the sound() method.**"
   ]
  },
  {
   "cell_type": "code",
   "execution_count": 74,
   "id": "f4563a88-d56f-4490-845d-b51feef861a3",
   "metadata": {},
   "outputs": [
    {
     "name": "stdout",
     "output_type": "stream",
     "text": [
      "Moo\n",
      "Baa\n"
     ]
    }
   ],
   "source": [
    "from abc import ABC, abstractmethod\n",
    "\n",
    "# 16. Abstract class Animal\n",
    "class Animal(ABC):\n",
    "    @abstractmethod\n",
    "    def sound(self):\n",
    "        pass\n",
    "\n",
    "# Derived class Cow\n",
    "class Cow(Animal):\n",
    "    def sound(self):\n",
    "        print(\"Moo\")\n",
    "\n",
    "# Derived class Sheep\n",
    "class Sheep(Animal):\n",
    "    def sound(self):\n",
    "        print(\"Baa\")\n",
    "\n",
    "# Test\n",
    "animals = [Cow(), Sheep()]\n",
    "for a in animals:\n",
    "    a.sound()"
   ]
  },
  {
   "cell_type": "markdown",
   "id": "9f5f87f2-75e2-436b-8c62-b4fc5429db36",
   "metadata": {},
   "source": [
    "**17. Create a class Book with attributes title, author, and year_published. Add a method get_book_info() that returns a formatted string with the book's details.**"
   ]
  },
  {
   "cell_type": "code",
   "execution_count": 75,
   "id": "cbe70c9e-bfca-4e58-9516-65a904dde50e",
   "metadata": {},
   "outputs": [
    {
     "name": "stdout",
     "output_type": "stream",
     "text": [
      "'1984' by George Orwell, published in 1949\n"
     ]
    }
   ],
   "source": [
    "class Book:\n",
    "    def __init__(self, title, author, year_published):\n",
    "        self.title = title\n",
    "        self.author = author\n",
    "        self.year_published = year_published\n",
    "\n",
    "    def get_book_info(self):\n",
    "        return f\"'{self.title}' by {self.author}, published in {self.year_published}\"\n",
    "\n",
    "# Test\n",
    "b1 = Book(\"1984\", \"George Orwell\", 1949)\n",
    "print(b1.get_book_info())  \n"
   ]
  },
  {
   "cell_type": "markdown",
   "id": "bc617013-e9fb-4d23-8947-8e1504181d14",
   "metadata": {},
   "source": [
    "**18. Create a class House with attributes address and price. Create a derived class Mansion that adds an attribute number_of_rooms.**"
   ]
  },
  {
   "cell_type": "code",
   "execution_count": null,
   "id": "b5a30138-f34b-4072-a6d2-038a9b5f516f",
   "metadata": {},
   "outputs": [],
   "source": []
  }
 ],
 "metadata": {
  "kernelspec": {
   "display_name": "Python 3 (ipykernel)",
   "language": "python",
   "name": "python3"
  },
  "language_info": {
   "codemirror_mode": {
    "name": "ipython",
    "version": 3
   },
   "file_extension": ".py",
   "mimetype": "text/x-python",
   "name": "python",
   "nbconvert_exporter": "python",
   "pygments_lexer": "ipython3",
   "version": "3.13.5"
  }
 },
 "nbformat": 4,
 "nbformat_minor": 5
}
