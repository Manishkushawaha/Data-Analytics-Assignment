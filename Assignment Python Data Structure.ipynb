{
 "cells": [
  {
   "cell_type": "markdown",
   "id": "412660c3-7778-4caa-9cb8-31a61a54d1cb",
   "metadata": {},
   "source": [
    "## Data Types and Structures"
   ]
  },
  {
   "cell_type": "markdown",
   "id": "a3b362cd-0948-4246-a0f1-9e98e7847b9e",
   "metadata": {},
   "source": [
    "**1. What are data structures, and why are they important?**"
   ]
  },
  {
   "cell_type": "markdown",
   "id": "aae57483-1be2-4b91-8afa-c263a14e37a8",
   "metadata": {},
   "source": [
    "Data structures are organized ways of storing, managing, and accessing data so that operations like searching, insertion, and deletion can be performed efficiently.\n",
    "\n",
    "* **Importance:**\n",
    "\n",
    "* **Efficiency:** Improves speed and memory usage.\n",
    "\n",
    "* **Organization:** Makes complex data easier to manage.\n",
    "\n",
    "* **Problem-Solving:** Certain data structures are optimal for specific tasks (e.g., graphs for networks, hash tables for fast lookups).\n",
    "\n",
    "* **Scalability:** Helps handle large amounts of data without performance loss.\n",
    "\n",
    "**Example:**\n",
    "\n",
    "* **List →** Ordered collection for sequential data.\n",
    "\n",
    "* **Dictionary →** Key-value storage for quick retrieval."
   ]
  },
  {
   "cell_type": "markdown",
   "id": "986f9205-63b5-4c93-8e2f-0ed0d3349b74",
   "metadata": {},
   "source": [
    "**2. Explain the difference between mutable and immutable data types with examples?**"
   ]
  },
  {
   "cell_type": "markdown",
   "id": "20e8c80a-295d-46bd-9036-c44bcd004140",
   "metadata": {},
   "source": [
    "**1. Mutable Data Types**\n",
    "* **Definition:** Can be changed after creation (contents can be modified without creating a new object).\n",
    "\n",
    "* **Examples:** list, dict, set\n",
    "\n",
    "* **Example Code:**"
   ]
  },
  {
   "cell_type": "code",
   "execution_count": 15,
   "id": "bd9601ad-6c9b-47c3-ad5e-9cd252f815c1",
   "metadata": {},
   "outputs": [
    {
     "name": "stdout",
     "output_type": "stream",
     "text": [
      "[99, 2, 3]\n"
     ]
    }
   ],
   "source": [
    "numbers = [1, 2, 3]\n",
    "numbers[0] = 99     # Modifies the original list\n",
    "print(numbers)      "
   ]
  },
  {
   "cell_type": "markdown",
   "id": "ed0d46bc-01b7-44ac-8807-7fc30776b6e1",
   "metadata": {},
   "source": [
    "**2. Immutable Data Types**\n",
    "* **Definition:** Cannot be changed after creation (any modification creates a new object).\n",
    "\n",
    "* **Examples:** int, float, tuple, str\n",
    "\n",
    "* **Example Code:**"
   ]
  },
  {
   "cell_type": "code",
   "execution_count": 14,
   "id": "017ebe2f-a8c1-420c-ba14-a15aebdfb30b",
   "metadata": {},
   "outputs": [
    {
     "name": "stdout",
     "output_type": "stream",
     "text": [
      "Mike\n"
     ]
    }
   ],
   "source": [
    "name = \"John\"\n",
    "# name[0] = \"M\"      Not allowed\n",
    "name = \"Mike\"      # Creates a new string object\n",
    "print(name)        \n"
   ]
  },
  {
   "cell_type": "markdown",
   "id": "7e3e7f62-8e53-48b0-a41c-6a66dca8d1f1",
   "metadata": {},
   "source": [
    "**3. What are the main differences between lists and tuples in Python?**"
   ]
  },
  {
   "cell_type": "markdown",
   "id": "613be20b-cdda-4a93-8893-05d36b3beea8",
   "metadata": {},
   "source": [
    "| **Feature**     | **List** (`[]`)                             | **Tuple** (`()`)                               |\n",
    "| --------------- | ------------------------------------------- | ---------------------------------------------- |\n",
    "| **Mutability**  | ✅ Mutable – can be changed after creation   | ❌ Immutable – cannot be changed after creation |\n",
    "| **Syntax**      | Square brackets `[]`                        | Parentheses `()`                               |\n",
    "| **Performance** | Slower due to mutability checks             | Faster due to immutability                     |\n",
    "| **Use Case**    | For dynamic data that changes frequently    | For fixed data that must remain constant       |\n",
    "| **Memory**      | Uses slightly more memory                   | More memory-efficient                          |\n",
    "| **Methods**     | Many methods (`append()`, `remove()`, etc.) | Fewer methods (`count()`, `index()`)           |\n",
    "| **Example**     | `fruits = [\"apple\", \"banana\"]`              | `colors = (\"red\", \"green\")`                    |"
   ]
  },
  {
   "cell_type": "markdown",
   "id": "7e76dd38-473e-4487-b56d-0fb261962bd9",
   "metadata": {},
   "source": [
    "**4. Describe how dictionaries store data?**"
   ]
  },
  {
   "cell_type": "markdown",
   "id": "3688a1a0-5406-4a83-8aee-a8bb8cb1161e",
   "metadata": {},
   "source": [
    "**Data Structure Used:**\n",
    "Python dictionaries store data as key–value pairs using a hash table.\n",
    "\n",
    "**How It Works:**\n",
    "\n",
    "* The key is passed through a hash function to generate a hash value (an integer).\n",
    "\n",
    "* This hash value determines the index (bucket) in the hash table where the value will be stored.\n",
    "\n",
    "* When retrieving data, Python re-computes the hash of the key and directly accesses the corresponding bucket — making lookups very fast.\n",
    "\n",
    "**Advantages:**\n",
    "\n",
    "* Average O(1) time complexity for lookups, insertions, and deletions.\n",
    "\n",
    "* Keys can be of any immutable type (str, int, tuple, etc.).\n",
    "\n",
    "**Example:**"
   ]
  },
  {
   "cell_type": "code",
   "execution_count": 13,
   "id": "fc1184da-6b8e-45ad-a06b-574f7fa0772a",
   "metadata": {},
   "outputs": [
    {
     "name": "stdout",
     "output_type": "stream",
     "text": [
      "Alice\n"
     ]
    }
   ],
   "source": [
    "student = {\"name\": \"Alice\", \"age\": 20, \"grade\": \"A\"}\n",
    "print(student[\"name\"])  \n"
   ]
  },
  {
   "cell_type": "markdown",
   "id": "8c754487-ee62-4823-90c7-3caf91652433",
   "metadata": {},
   "source": [
    "**5. Why might you use a set instead of a list in Python?**"
   ]
  },
  {
   "cell_type": "markdown",
   "id": "5065f8ff-6978-4f94-9999-84f53439378a",
   "metadata": {},
   "source": [
    "**Reasons to Use a Set:**\n",
    "\n",
    "**1. No Duplicates:**\n",
    "\n",
    "* A set automatically removes duplicate values."
   ]
  },
  {
   "cell_type": "code",
   "execution_count": 3,
   "id": "456a7e35-721c-4522-ac87-bd30e6edb424",
   "metadata": {},
   "outputs": [
    {
     "name": "stdout",
     "output_type": "stream",
     "text": [
      "{1, 2, 3}\n"
     ]
    }
   ],
   "source": [
    "nums = {1, 2, 2, 3}\n",
    "print(nums)  # Output: {1, 2, 3}"
   ]
  },
  {
   "cell_type": "markdown",
   "id": "dcb9d162-311c-4c8e-b587-a3d996debea3",
   "metadata": {},
   "source": [
    "**2. Faster Lookups:**\n",
    "\n",
    "* Membership checks (in keyword) are O(1) on average in a set, compared to O(n) for a list."
   ]
  },
  {
   "cell_type": "code",
   "execution_count": 4,
   "id": "b9e38efb-b8c6-4ce3-8c14-41ac4814b94b",
   "metadata": {},
   "outputs": [
    {
     "name": "stdout",
     "output_type": "stream",
     "text": [
      "True\n"
     ]
    }
   ],
   "source": [
    "nums = {1, 2, 3}\n",
    "print(3 in nums)  # Fast lookup\n"
   ]
  },
  {
   "cell_type": "markdown",
   "id": "ab121be1-4e83-4d91-8b3b-50d4d6b1764e",
   "metadata": {},
   "source": [
    "**3. Set Operations Support:**\n",
    "\n",
    "* Built-in methods for union, intersection, difference, etc., which are not directly available for lists."
   ]
  },
  {
   "cell_type": "code",
   "execution_count": 12,
   "id": "f05e4d27-c8ad-4148-a5cb-975b21c1da6e",
   "metadata": {},
   "outputs": [
    {
     "name": "stdout",
     "output_type": "stream",
     "text": [
      "{3}\n"
     ]
    }
   ],
   "source": [
    "a = {1, 2, 3}\n",
    "b = {3, 4, 5}\n",
    "print(a & b) "
   ]
  },
  {
   "cell_type": "markdown",
   "id": "7efcd9e7-a4fb-4db1-b63e-2cfe8b978439",
   "metadata": {},
   "source": [
    "**4. Better for Unordered Data:**\n",
    "\n",
    "* Sets do not preserve order, making them more memory-efficient when order isn’t needed."
   ]
  },
  {
   "cell_type": "markdown",
   "id": "072997e3-dc35-4c18-9e9e-63cf0c551b7e",
   "metadata": {},
   "source": [
    "**6. What is a string in Python, and how is it different from a list?**"
   ]
  },
  {
   "cell_type": "markdown",
   "id": "51f16bd9-22bd-4662-b98a-60489529658a",
   "metadata": {},
   "source": [
    "**String in Python**\n",
    "\n",
    "* A string is a sequence of characters enclosed in single quotes ('), double quotes (\"), or triple quotes (''' or \"\"\").\n",
    "\n",
    "* Strings are immutable — once created, their contents cannot be changed.\n",
    "\n",
    "**Example:**"
   ]
  },
  {
   "cell_type": "code",
   "execution_count": 6,
   "id": "acb8e422-59a3-4573-b3fb-4aaa21b13dd0",
   "metadata": {},
   "outputs": [],
   "source": [
    "name = \"Python\""
   ]
  },
  {
   "cell_type": "markdown",
   "id": "173b33ef-819b-43ad-bb57-23d00328b0d6",
   "metadata": {},
   "source": [
    "**Difference Between String and List**\n",
    "\n",
    "| **Feature**      | **String**                             | **List**                                    |\n",
    "| ---------------- | -------------------------------------- | ------------------------------------------- |\n",
    "| **Definition**   | Sequence of characters                 | Sequence of elements (can be any data type) |\n",
    "| **Mutability**   | ❌ Immutable                            | ✅ Mutable                                   |\n",
    "| **Element Type** | Only characters                        | Can store mixed data types                  |\n",
    "| **Syntax**       | `\"Hello\"` or `'Hello'`                 | `[\"H\", \"e\", \"l\", \"l\", \"o\"]`                 |\n",
    "| **Modification** | Cannot change individual characters    | Can change individual elements              |\n",
    "| **Methods**      | String-specific (`upper()`, `split()`) | List-specific (`append()`, `extend()`)      |\n",
    "| **Example**      | `\"Python\"`                             | `[\"P\", \"y\", \"t\", \"h\", \"o\", \"n\"]`            |"
   ]
  },
  {
   "cell_type": "code",
   "execution_count": 11,
   "id": "b59965b9-7886-40bd-bdcd-2024ff6f162a",
   "metadata": {},
   "outputs": [
    {
     "name": "stdout",
     "output_type": "stream",
     "text": [
      "['Y', 'e', 'l', 'l', 'o']\n"
     ]
    }
   ],
   "source": [
    "# String (immutable)\n",
    "s = \"Hello\"\n",
    "# s[0] = \"Y\"  # ❌ Error\n",
    "\n",
    "# List (mutable)\n",
    "l = [\"H\", \"e\", \"l\", \"l\", \"o\"]\n",
    "l[0] = \"Y\"   \n",
    "print(l)     \n"
   ]
  },
  {
   "cell_type": "markdown",
   "id": "f9627e48-a57d-4c8d-9ef4-c1a6e4110a62",
   "metadata": {},
   "source": [
    "**7. How do tuples ensure data integrity in Python?**"
   ]
  },
  {
   "cell_type": "markdown",
   "id": "f97d3a42-a0c7-4c43-83e8-6e2c5e955cb9",
   "metadata": {},
   "source": [
    "**Immutability:**\n",
    "\n",
    "* Tuples are immutable, meaning once created, their elements cannot be modified, added, or removed.\n",
    "\n",
    "* This prevents accidental changes to the data, ensuring it remains consistent.\n",
    "\n",
    "**Data Safety:**\n",
    "\n",
    "* Useful for storing constant or fixed values like configuration settings, coordinates, or dates.\n",
    "\n",
    "* Prevents bugs caused by unintended modifications.\n",
    "\n",
    "**Hashability:**\n",
    "\n",
    "* Because they are immutable (and if they contain only immutable elements), tuples can be used as dictionary keys or stored in sets — allowing safe, consistent lookups."
   ]
  },
  {
   "cell_type": "markdown",
   "id": "4e74219c-1701-4f55-9cac-ee5fb6a26746",
   "metadata": {},
   "source": [
    "**8. What is a hash table, and how does it relate to dictionaries in Python?**"
   ]
  },
  {
   "cell_type": "markdown",
   "id": "8cd92ee0-1d53-4bc3-b00f-a611b79f6225",
   "metadata": {},
   "source": [
    "**Hash Table:**\n",
    "\n",
    "* A hash table is a data structure that stores data in key–value pairs.\n",
    "\n",
    "* It uses a hash function to convert the key into a numerical value (hash code) which determines where the value will be stored in memory.\n",
    "\n",
    "* This allows fast lookups, insertions, and deletions — typically O(1) on average.\n",
    "\n",
    "**Relation to Python Dictionaries:**\n",
    "\n",
    "* Python dictionaries (dict) are implemented using hash tables.\n",
    "\n",
    "* When you store a key–value pair in a dictionary:\n",
    "\n",
    "* 1. Python hashes the key.\n",
    "\n",
    "* 2. The hash determines the bucket (memory location) where the value will be stored.\n",
    "\n",
    "* When retrieving a value:\n",
    "\n",
    "* 1. Python hashes the key again.\n",
    "\n",
    "* 2. It directly accesses the corresponding bucket — avoiding a full scan.\n",
    "\n",
    "**Example:**"
   ]
  },
  {
   "cell_type": "code",
   "execution_count": 9,
   "id": "9b6523b4-0ecc-4018-b73e-d4b20142e6c1",
   "metadata": {},
   "outputs": [
    {
     "name": "stdout",
     "output_type": "stream",
     "text": [
      "Alice\n"
     ]
    }
   ],
   "source": [
    "# Dictionary (internally uses a hash table)\n",
    "student = {\"name\": \"Alice\", \"age\": 21}\n",
    "\n",
    "print(student[\"name\"])  \n"
   ]
  },
  {
   "cell_type": "markdown",
   "id": "55db1f44-11fc-4070-943f-f2d30960c49f",
   "metadata": {},
   "source": [
    "**9. Can lists contain different data types in Python?**"
   ]
  },
  {
   "cell_type": "markdown",
   "id": "374d9fa3-e86d-4e18-af02-ce80002c77ef",
   "metadata": {},
   "source": [
    "Yes — Python lists can store elements of different data types in the same list because Python is dynamically typed.\n",
    "\n",
    "* A list can include integers, strings, floats, booleans, objects, and even other lists.\n",
    "\n",
    "**Example:**"
   ]
  },
  {
   "cell_type": "code",
   "execution_count": 10,
   "id": "2ce1bb2c-0745-4a81-b466-eab16c0fe810",
   "metadata": {},
   "outputs": [
    {
     "name": "stdout",
     "output_type": "stream",
     "text": [
      "[42, 'Hello', 3.14, True, [1, 2, 3]]\n"
     ]
    }
   ],
   "source": [
    "mixed_list = [42, \"Hello\", 3.14, True, [1, 2, 3]]\n",
    "print(mixed_list)"
   ]
  },
  {
   "cell_type": "markdown",
   "id": "8eb122f3-ae8f-47f5-bd7b-145227d054ee",
   "metadata": {},
   "source": [
    "**Key Points:**\n",
    "\n",
    "* Flexibility makes lists powerful but can lead to type-related errors if not handled carefully.\n",
    "\n",
    "* Best practice: keep data types consistent in a list when possible for clarity and easier processing."
   ]
  },
  {
   "cell_type": "markdown",
   "id": "c30092a3-90f8-44b1-8335-1fafa6b20e71",
   "metadata": {},
   "source": [
    "**10. Explain why strings are immutable in Python?**"
   ]
  },
  {
   "cell_type": "markdown",
   "id": "8a618674-57ce-43d5-a348-11b48a7b98ca",
   "metadata": {},
   "source": [
    "**Reasons for String Immutability:**\n",
    "\n",
    "**1. Memory Efficiency (String Interning):**\n",
    "\n",
    "* Python often reuses the same string object in memory if the value is identical (called string interning).\n",
    "\n",
    "* Immutability ensures that if multiple variables share the same string, changes in one won't affect the others.\n",
    "\n",
    "**2. Thread Safety:**\n",
    "\n",
    "* In multi-threaded programs, immutable strings prevent race conditions because their content cannot change once created.\n",
    "\n",
    "**3. Hashability:**\n",
    "\n",
    "* Strings can be used as dictionary keys or stored in sets because they are hashable — this requires them to be immutable so their hash value never changes.\n",
    "\n",
    "**4. Predictability:**\n",
    "\n",
    "* Since strings can’t change, functions that receive them can safely rely on their value staying the same."
   ]
  },
  {
   "cell_type": "code",
   "execution_count": 16,
   "id": "a5871f7b-8b10-445b-8d19-b15475ba1048",
   "metadata": {},
   "outputs": [
    {
     "name": "stdout",
     "output_type": "stream",
     "text": [
      "hello\n"
     ]
    }
   ],
   "source": [
    "s1 = \"hello\"\n",
    "s2 = s1\n",
    "s1 = \"world\"  # Creates a new string object, doesn't modify the old one\n",
    "print(s2)     "
   ]
  },
  {
   "cell_type": "markdown",
   "id": "ecc3ed87-c94d-4401-9103-4380350c1317",
   "metadata": {},
   "source": [
    "**11. What advantages do dictionaries offer over lists for certain tasks?**"
   ]
  },
  {
   "cell_type": "markdown",
   "id": "a0eab596-59f8-46c8-a744-5ff0f31a4717",
   "metadata": {},
   "source": [
    "| **Advantage**                 | **Explanation**                                                                   | **Example**                                                     |\n",
    "| ----------------------------- | --------------------------------------------------------------------------------- | --------------------------------------------------------------- |\n",
    "| **Faster Lookups**            | Dictionary lookups are **O(1)** on average, while list searches are **O(n)**.     | `user[\"name\"]` is faster than finding `\"name\"` in a list.       |\n",
    "| **Key-Value Mapping**         | Data is stored with descriptive keys instead of relying on index positions.       | `{\"name\": \"Alice\", \"age\": 25}` is clearer than `[\"Alice\", 25]`. |\n",
    "| **No Need to Remember Index** | Access data directly by key rather than position.                                 | `data[\"age\"]` instead of `data[1]`.                             |\n",
    "| **Flexible Keys**             | Can use different immutable types (string, int, tuple) as keys.                   | `{(10, 20): \"Point A\"}`                                         |\n",
    "| **Dynamic & Unordered**       | Can store varied and complex data structures easily without worrying about order. | Nested dictionaries for configurations.                         |\n"
   ]
  },
  {
   "cell_type": "markdown",
   "id": "3e0fc695-a7a0-4474-a966-dbba0e775919",
   "metadata": {},
   "source": [
    "**12. Describe a scenario where using a tuple would be preferable over a list?**"
   ]
  },
  {
   "cell_type": "markdown",
   "id": "8ef0e19f-f55f-4503-a9b8-fb050c58abcd",
   "metadata": {},
   "source": [
    "| **Scenario**                        | **Reason**                                                                        | **Example**                                              |\n",
    "| ----------------------------------- | --------------------------------------------------------------------------------- | -------------------------------------------------------- |\n",
    "| **Fixed, unchangeable data**        | Tuples are immutable, ensuring values remain constant.                            | Storing days of the week: `days = (\"Mon\", \"Tue\", \"Wed\")` |\n",
    "| **Dictionary keys or set elements** | Tuples can be used as keys if they contain only immutable elements; lists cannot. | `{(28.61, 77.20): \"Delhi\"}`                              |\n",
    "| **Performance optimization**        | Tuples are slightly faster than lists for iteration and lookup.                   | Looping through constant config values.                  |\n",
    "| **Data integrity**                  | Prevents accidental modification of critical data.                                | `config = (\"v1.0\", \"production\")`                        |\n"
   ]
  },
  {
   "cell_type": "markdown",
   "id": "7f158566-592a-4f3d-b4b4-b9946266127f",
   "metadata": {},
   "source": [
    "**13. How do sets handle duplicate values in Python?**"
   ]
  },
  {
   "cell_type": "markdown",
   "id": "ceea40e1-1ad0-4e93-8868-b86e5c1d7c65",
   "metadata": {},
   "source": [
    "**How Sets Handle Duplicates**\n",
    "\n",
    "* Sets automatically remove duplicate values — they only store unique elements.\n",
    "\n",
    "* When a duplicate is added, Python ignores it without raising an error.\n",
    "\n",
    "* This makes sets useful for eliminating duplicates from a collection."
   ]
  },
  {
   "cell_type": "code",
   "execution_count": 21,
   "id": "f382fbea-ac17-4ef3-8c54-f9e53772e53c",
   "metadata": {},
   "outputs": [
    {
     "name": "stdout",
     "output_type": "stream",
     "text": [
      "{1, 2, 3, 4}\n",
      "{1, 2, 3, 4}\n"
     ]
    }
   ],
   "source": [
    "my_set = {1, 2, 2, 3, 3, 3, 4}\n",
    "print(my_set)\n",
    "# Output: {1, 2, 3, 4}  # duplicates removed\n",
    "\n",
    "# Adding duplicates\n",
    "my_set.add(2)\n",
    "print(my_set)\n",
    "# Output: {1, 2, 3, 4}  # unchanged\n"
   ]
  },
  {
   "cell_type": "markdown",
   "id": "6bb2be01-3f4e-4624-ae02-6bc605808c32",
   "metadata": {},
   "source": [
    "**Key Points Table:**\n",
    "\n",
    "| **Feature**       | **Set Behavior**                             |\n",
    "| ----------------- | -------------------------------------------- |\n",
    "| Duplicate storage | ❌ Not allowed                                |\n",
    "| Data type         | Unordered collection                         |\n",
    "| Use case          | Removing duplicates, fast membership testing |\n",
    "| Example           | `{1, 2, 3, 4}`                               |\n"
   ]
  },
  {
   "cell_type": "markdown",
   "id": "68f9951e-432d-4628-8b4d-ee0a3aee9049",
   "metadata": {},
   "source": [
    "**14. How does the “in” keyword work differently for lists and dictionaries?**"
   ]
  },
  {
   "cell_type": "markdown",
   "id": "66fa5f1f-cb01-4885-aabf-c62d5a5d45b2",
   "metadata": {},
   "source": [
    "**1. For Lists**\n",
    "\n",
    "* The in keyword checks if a value exists as an element in the list.\n",
    "\n",
    "* It searches through all elements until it finds a match.\n",
    "\n",
    "* Time Complexity: O(n) (linear search).\n",
    "\n",
    "**Example:**"
   ]
  },
  {
   "cell_type": "code",
   "execution_count": 23,
   "id": "aacb89a4-0252-4a3b-a46f-b79080945a45",
   "metadata": {},
   "outputs": [
    {
     "name": "stdout",
     "output_type": "stream",
     "text": [
      "True\n",
      "False\n"
     ]
    }
   ],
   "source": [
    "my_list = [10, 20, 30]\n",
    "print(20 in my_list)   # True  (20 is an element in the list)\n",
    "print(50 in my_list)   # False"
   ]
  },
  {
   "cell_type": "markdown",
   "id": "2c991504-8c83-4601-9dc4-ebec2a9fd628",
   "metadata": {},
   "source": [
    "**2. For Dictionaries**\n",
    "\n",
    "* The in keyword checks only the keys, not the values, by default.\n",
    "\n",
    "* Time Complexity: O(1) (hash table lookup).\n",
    "\n",
    "**Example:**"
   ]
  },
  {
   "cell_type": "code",
   "execution_count": 25,
   "id": "2beae7ce-1c6a-4f29-8f7b-0e94c6f1b302",
   "metadata": {},
   "outputs": [
    {
     "name": "stdout",
     "output_type": "stream",
     "text": [
      "True\n",
      "False\n",
      "True\n"
     ]
    }
   ],
   "source": [
    "my_dict = {\"a\": 1, \"b\": 2}\n",
    "print(\"a\" in my_dict)        # True  (key 'a' exists)\n",
    "print(1 in my_dict)          # False (1 is a value, not a key)\n",
    "print(1 in my_dict.values()) # True  (checks values explicitly)\n"
   ]
  },
  {
   "cell_type": "markdown",
   "id": "76e122fd-d7ce-40cd-ac83-bd5c0cbc9708",
   "metadata": {},
   "source": [
    "**15. Can you modify the elements of a tuple? Explain why or why not?**"
   ]
  },
  {
   "cell_type": "markdown",
   "id": "e73f9fa2-b6bb-4db5-a9e2-d3be98354404",
   "metadata": {},
   "source": [
    "No, you cannot modify the elements of a tuple in Python because tuples are immutable.\n",
    "\n",
    "* Once a tuple is created, its elements and size cannot be changed.\n",
    "\n",
    "* This immutability helps ensure data integrity and makes tuples hashable (usable as dictionary keys or set elements).\n",
    "\n",
    "**Example:**\n",
    "\n",
    "my_tuple = (1, 2, 3)\n",
    "\n",
    "**Trying to modify an element**\n",
    "\n",
    "my_tuple[1] = 10  # ❌ Raises TypeError: 'tuple' object does not support item assignment"
   ]
  },
  {
   "cell_type": "markdown",
   "id": "d18b8c22-114d-47a1-8299-b20a5884ddde",
   "metadata": {},
   "source": [
    "**However — Important Note**\n",
    "\n",
    "* If a tuple contains mutable objects (like lists), the mutable object’s content can be changed, but you still cannot replace the object in the tuple.\n",
    "\n",
    "**Example:**\n",
    "\n",
    "nested_tuple = (1, [2, 3], 4)\n",
    "\n",
    "nested_tuple[1][0] = 99  # ✅ Allowed (list inside tuple is mutable)\n",
    "\n",
    "print(nested_tuple)      # (1, [99, 3], 4)"
   ]
  },
  {
   "cell_type": "markdown",
   "id": "a1f53a1f-f3da-4d3c-a2e4-c678fde3ced8",
   "metadata": {},
   "source": [
    "**16. What is a nested dictionary, and give an example of its use case?**"
   ]
  },
  {
   "cell_type": "markdown",
   "id": "c40ee733-be70-45af-96ba-78ed7f67cf6b",
   "metadata": {},
   "source": [
    "A nested dictionary is a dictionary inside another dictionary.\n",
    "\n",
    "* It allows storing data in a hierarchical or multi-level structure.\n",
    "\n",
    "* Useful when representing complex data where each key maps to another dictionary, rather than a single value.\n",
    "\n",
    "**Example Use Case:**\n",
    "    \n",
    "Storing student data where each student ID maps to another dictionary containing their details.    "
   ]
  },
  {
   "cell_type": "code",
   "execution_count": 27,
   "id": "6334b7ae-deef-4fe7-84a3-3362c370bce3",
   "metadata": {},
   "outputs": [
    {
     "name": "stdout",
     "output_type": "stream",
     "text": [
      "90\n"
     ]
    }
   ],
   "source": [
    "students = {\n",
    "    \"S101\": {\"name\": \"Alice\", \"age\": 20, \"marks\": 85},\n",
    "    \"S102\": {\"name\": \"Bob\", \"age\": 22, \"marks\": 90},\n",
    "    \"S103\": {\"name\": \"Charlie\", \"age\": 21, \"marks\": 88}\n",
    "}\n",
    "\n",
    "# Accessing nested dictionary data\n",
    "print(students[\"S102\"][\"marks\"])  # Output: 90\n"
   ]
  },
  {
   "cell_type": "markdown",
   "id": "42e4505d-cc50-4841-bffd-b9d3a85eef60",
   "metadata": {},
   "source": [
    "**17. Describe the time complexity of accessing elements in a dictionary?**"
   ]
  },
  {
   "cell_type": "markdown",
   "id": "9e1cfaed-81a0-4c11-b8c6-4dec86303e5a",
   "metadata": {},
   "source": [
    "In Python, dictionaries are implemented using hash tables.\n",
    "\n",
    "Accessing an element by its key is generally O(1) (constant time) on average.\n",
    "\n",
    "This means the time taken to retrieve an element does not depend on the number of items in the dictionary.\n",
    "\n",
    "However:\n",
    "\n",
    "In the worst case, due to hash collisions, access time can degrade to O(n), but this is rare because Python’s hash function minimizes collisions."
   ]
  },
  {
   "cell_type": "markdown",
   "id": "0a048ea6-0725-4f82-b408-be30feb86e3c",
   "metadata": {},
   "source": [
    "**18. In what situations are lists preferred over dictionaries?**"
   ]
  },
  {
   "cell_type": "markdown",
   "id": "dbfc3d1c-1b49-4aaa-8b3f-d306a0d037bc",
   "metadata": {},
   "source": [
    "| **Situation**                                | **Reason**                                                                                                        |\n",
    "| -------------------------------------------- | ----------------------------------------------------------------------------------------------------------------- |\n",
    "| **When order matters**                       | Lists maintain elements in a specific sequence (order of insertion), which is useful for ordered data processing. |\n",
    "| **When data has no unique key**              | Lists are ideal for storing values without requiring a key (e.g., `[10, 20, 30]`).                                |\n",
    "| **For indexed access**                       | Lists allow quick access using an index (e.g., `my_list[0]`).                                                     |\n",
    "| **When duplicate values are needed**         | Lists can store duplicates, unlike sets or dictionary keys.                                                       |\n",
    "| **When data is small and simple**            | Lists have less overhead compared to dictionaries and are more memory-efficient for small collections.            |\n",
    "| **When you need iteration in a fixed order** | Lists ensure predictable iteration order without requiring sorting.                                               |\n"
   ]
  },
  {
   "cell_type": "markdown",
   "id": "08d400e6-88eb-4d86-99ef-22dfb3a5a715",
   "metadata": {},
   "source": [
    "**19. Why are dictionaries considered unordered, and how does that affect data retrieval?**"
   ]
  },
  {
   "cell_type": "markdown",
   "id": "5691108f-b7c1-462d-a154-0bfd627be57e",
   "metadata": {},
   "source": [
    "**Why Dictionaries Are Considered Unordered:**\n",
    "    \n",
    "* Before Python 3.7: Dictionaries did not maintain the order of items — elements could be stored in any sequence depending on the hash table’s internal arrangement.\n",
    "\n",
    "* From Python 3.7+: Dictionaries maintain insertion order, but this is a language implementation detail and not intended for sorting.\n",
    "\n",
    "**Effect on Data Retrieval:**\n",
    "    \n",
    "**1. Key-Based Retrieval Only:**\n",
    "\n",
    "* You cannot rely on position to retrieve elements like you can with lists.\n",
    "\n",
    "* Retrieval is done only by key, not by index.\n",
    "\n",
    "**2. No Sorting by Default:**\n",
    "\n",
    "* Items are stored in insertion order (Python 3.7+), but they are not sorted by key or value unless explicitly done using sorted().\n",
    "\n"
   ]
  },
  {
   "cell_type": "code",
   "execution_count": 20,
   "id": "996cacae-a9ad-4175-a102-7117fcdba8b0",
   "metadata": {},
   "outputs": [
    {
     "name": "stdout",
     "output_type": "stream",
     "text": [
      "25\n"
     ]
    }
   ],
   "source": [
    "data = {\"name\": \"Alice\", \"age\": 25, \"city\": \"Delhi\"}\n",
    "print(data[\"age\"])   # ✅ Access by key\n",
    "# print(data[1])     # ❌ Error: Cannot access by index\n"
   ]
  },
  {
   "cell_type": "markdown",
   "id": "3bb6013b-14c9-48ce-a1e3-e0344b5a0388",
   "metadata": {},
   "source": [
    "**20 Explain the difference between a list and a dictionary in terms of data retrieval.**"
   ]
  },
  {
   "cell_type": "markdown",
   "id": "b5c9c766-8596-4eda-a979-45870c790e67",
   "metadata": {},
   "source": [
    "| **Aspect**           | **List**                                             | **Dictionary**                                           |\n",
    "| -------------------- | ---------------------------------------------------- | -------------------------------------------------------- |\n",
    "| **Retrieval Method** | By **index** (position of the element)               | By **key** (unique identifier for the value)             |\n",
    "| **Access Syntax**    | `my_list[0]` → returns first element                 | `my_dict[\"name\"]` → returns value for `\"name\"`           |\n",
    "| **Data Reference**   | Position-based                                       | Key-based                                                |\n",
    "| **Time Complexity**  | O(1) for direct index access                         | O(1) average for key lookup (via hash table)             |\n",
    "| **Example**          | `fruits = [\"apple\", \"banana\"]; fruits[1] → \"banana\"` | `student = {\"name\": \"Alice\"}; student[\"name\"] → \"Alice\"` |\n"
   ]
  },
  {
   "cell_type": "code",
   "execution_count": 18,
   "id": "604505fb-e927-43ad-ae7f-04f1e6119521",
   "metadata": {},
   "outputs": [
    {
     "name": "stdout",
     "output_type": "stream",
     "text": [
      "banana\n"
     ]
    }
   ],
   "source": [
    "# List retrieval by index\n",
    "fruits = [\"apple\", \"banana\", \"cherry\"]\n",
    "print(fruits[1])  "
   ]
  },
  {
   "cell_type": "code",
   "execution_count": 19,
   "id": "ba84f803-eb8c-437d-9e25-67927e32546c",
   "metadata": {},
   "outputs": [
    {
     "name": "stdout",
     "output_type": "stream",
     "text": [
      "Alice\n"
     ]
    }
   ],
   "source": [
    "# Dictionary retrieval by key\n",
    "student = {\"name\": \"Alice\", \"age\": 21}\n",
    "print(student[\"name\"]) "
   ]
  },
  {
   "cell_type": "code",
   "execution_count": null,
   "id": "091d8fe8-013e-42fe-8a99-3fdce447aeb3",
   "metadata": {},
   "outputs": [],
   "source": []
  }
 ],
 "metadata": {
  "kernelspec": {
   "display_name": "Python 3 (ipykernel)",
   "language": "python",
   "name": "python3"
  },
  "language_info": {
   "codemirror_mode": {
    "name": "ipython",
    "version": 3
   },
   "file_extension": ".py",
   "mimetype": "text/x-python",
   "name": "python",
   "nbconvert_exporter": "python",
   "pygments_lexer": "ipython3",
   "version": "3.13.5"
  }
 },
 "nbformat": 4,
 "nbformat_minor": 5
}
