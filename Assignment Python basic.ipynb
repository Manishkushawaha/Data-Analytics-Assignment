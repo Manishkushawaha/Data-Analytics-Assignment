{
 "cells": [
  {
   "cell_type": "markdown",
   "id": "faf7f2cb",
   "metadata": {},
   "source": [
    "## Python Basics Questions"
   ]
  },
  {
   "cell_type": "markdown",
   "id": "6de7b6f1",
   "metadata": {},
   "source": [
    "**1. What is Python, and why is it popular**"
   ]
  },
  {
   "cell_type": "markdown",
   "id": "0ca14331",
   "metadata": {},
   "source": [
    "Python is a high-level, interpreted programming language known for its simple syntax and readability.\n",
    "\n",
    "**Popular because:**\n",
    "\n",
    "* Easy to learn and write\n",
    "\n",
    "* Large community support\n",
    "\n",
    "* Extensive libraries for data science, AI, web, automation\n",
    "\n",
    "* Versatile (web, data, automation, etc.)"
   ]
  },
  {
   "cell_type": "markdown",
   "id": "2873da11",
   "metadata": {},
   "source": [
    "**2. What is an interpreter in Python**"
   ]
  },
  {
   "cell_type": "markdown",
   "id": "8315aa90",
   "metadata": {},
   "source": [
    "An interpreter reads and executes Python code line-by-line.\n",
    "\n",
    "It translates high-level Python code into machine code during runtime."
   ]
  },
  {
   "cell_type": "markdown",
   "id": "fb1f6888",
   "metadata": {},
   "source": [
    "**3. What are pre-defined keywords in Python**"
   ]
  },
  {
   "cell_type": "markdown",
   "id": "c1c94f0b",
   "metadata": {},
   "source": [
    "Pre-defined keywords are reserved words that have special meaning in Python.\n",
    "\n",
    "Examples: if, for, while, def, class, True, False, None, etc.\n",
    "\n",
    "Use this to list all keywords:"
   ]
  },
  {
   "cell_type": "code",
   "execution_count": 2,
   "id": "a4bfb128",
   "metadata": {},
   "outputs": [
    {
     "name": "stdout",
     "output_type": "stream",
     "text": [
      "['False', 'None', 'True', '__peg_parser__', 'and', 'as', 'assert', 'async', 'await', 'break', 'class', 'continue', 'def', 'del', 'elif', 'else', 'except', 'finally', 'for', 'from', 'global', 'if', 'import', 'in', 'is', 'lambda', 'nonlocal', 'not', 'or', 'pass', 'raise', 'return', 'try', 'while', 'with', 'yield']\n"
     ]
    }
   ],
   "source": [
    "import keyword\n",
    "print(keyword.kwlist)"
   ]
  },
  {
   "cell_type": "markdown",
   "id": "74fcebf5",
   "metadata": {},
   "source": [
    "**4. Can keywords be used as variable names**"
   ]
  },
  {
   "cell_type": "markdown",
   "id": "f29b273f",
   "metadata": {},
   "source": [
    "No. You cannot use Python keywords as variable names."
   ]
  },
  {
   "cell_type": "markdown",
   "id": "ea08ae6f",
   "metadata": {},
   "source": [
    "**5. What is mutability in Python**"
   ]
  },
  {
   "cell_type": "markdown",
   "id": "2962aa05",
   "metadata": {},
   "source": [
    "Mutability refers to whether an object’s value can be changed after creation.\n",
    "\n",
    "* Mutable: Can be changed (list, dict, set)\n",
    "\n",
    "* Immutable: Cannot be changed (int, str, tuple)"
   ]
  },
  {
   "cell_type": "markdown",
   "id": "db494ea8",
   "metadata": {},
   "source": [
    "**6. Why are lists mutable, but tuples are immutable**"
   ]
  },
  {
   "cell_type": "markdown",
   "id": "b2b5eadc",
   "metadata": {},
   "source": [
    "* Lists are designed for flexible, changeable data.\n",
    "\n",
    "* Tuples are fixed and used for safe, constant data.\n",
    "\n",
    "Their internal implementation restricts tuple modification."
   ]
  },
  {
   "cell_type": "markdown",
   "id": "fd78624b",
   "metadata": {},
   "source": [
    "**7. What is the difference between “==” and “is” operators in Python**"
   ]
  },
  {
   "cell_type": "markdown",
   "id": "1defd7cb",
   "metadata": {},
   "source": [
    "| **Operator** | **Meaning**                                                   |\n",
    "|--------------|----------------------------------------------------------------|\n",
    "| `==`         | Checks if values are equal                                     |\n",
    "| `is`         | Checks if two variables point to the same object in memory     |"
   ]
  },
  {
   "cell_type": "markdown",
   "id": "bff14e7a",
   "metadata": {},
   "source": [
    "**8. What are logical operators in Python**"
   ]
  },
  {
   "cell_type": "markdown",
   "id": "e855f910",
   "metadata": {},
   "source": [
    "Logical operators are used to combine boolean expressions:\n",
    "\n",
    "* **and:** True if both are True\n",
    "\n",
    "* **or:** True if at least one is True\n",
    "\n",
    "* **not:** Inverts the boolean value"
   ]
  },
  {
   "cell_type": "code",
   "execution_count": 7,
   "id": "f2da8a06",
   "metadata": {},
   "outputs": [
    {
     "name": "stdout",
     "output_type": "stream",
     "text": [
      "True\n"
     ]
    }
   ],
   "source": [
    "x = 5\n",
    "print(x > 3 and x < 10) "
   ]
  },
  {
   "cell_type": "markdown",
   "id": "2dc0cc0f",
   "metadata": {},
   "source": [
    "**9. What is type casting in Python**"
   ]
  },
  {
   "cell_type": "markdown",
   "id": "084d71c2",
   "metadata": {},
   "source": [
    "Type casting in Python refers to converting the value of one data type into another data type.\n",
    "\n",
    "There are two types of type casting:\n",
    "\n",
    "1. Implicit Type Casting\n",
    "* Done automatically by Python\n",
    "* Happens when Python converts data types during an operation"
   ]
  },
  {
   "cell_type": "code",
   "execution_count": 9,
   "id": "48f9845b",
   "metadata": {},
   "outputs": [
    {
     "name": "stdout",
     "output_type": "stream",
     "text": [
      "7.5\n"
     ]
    }
   ],
   "source": [
    "x = 3       # int\n",
    "y = 4.5     # float\n",
    "z = x + y   # float (Python converts int to float)\n",
    "print(z)    # Output: 7.5"
   ]
  },
  {
   "cell_type": "markdown",
   "id": "38c52d34",
   "metadata": {},
   "source": [
    "2. Explicit Type Casting\n",
    "* Done manually using built-in functions like int(), float(), str(), etc.\n",
    "\n",
    "**Example:)**"
   ]
  },
  {
   "cell_type": "code",
   "execution_count": 10,
   "id": "49842799",
   "metadata": {
    "scrolled": true
   },
   "outputs": [
    {
     "name": "stdout",
     "output_type": "stream",
     "text": [
      "15\n"
     ]
    }
   ],
   "source": [
    "x = \"10\"          # string\n",
    "y = int(x) + 5    # converted to int before adding\n",
    "print(y)          # Output: 15"
   ]
  },
  {
   "cell_type": "markdown",
   "id": "b729faa9",
   "metadata": {},
   "source": [
    "**10. What is the difference between implicit and explicit type casting**"
   ]
  },
  {
   "cell_type": "markdown",
   "id": "bf46b606",
   "metadata": {},
   "source": [
    "| **Type**    | **Description**                 | **Example**           |\n",
    "|-------------|----------------------------------|------------------------|\n",
    "| Implicit    | Auto-conversion by Python        | `3 + 4.5 → 7.5`        |\n",
    "| Explicit    | Manual conversion by programmer  | `int(\"5\") → 5`         |\n"
   ]
  },
  {
   "cell_type": "markdown",
   "id": "f49c2ee1",
   "metadata": {},
   "source": [
    "**11. What is the purpose of conditional statements in Python**"
   ]
  },
  {
   "cell_type": "markdown",
   "id": "f1c52a04",
   "metadata": {},
   "source": [
    "Conditional statements control the flow of execution based on conditions.\n",
    "\n",
    "Used to perform different actions depending on the situation (if, else, elif)."
   ]
  },
  {
   "cell_type": "markdown",
   "id": "feaacf3e",
   "metadata": {},
   "source": [
    "**12. How does the elif statement work**"
   ]
  },
  {
   "cell_type": "markdown",
   "id": "07e3692a",
   "metadata": {},
   "source": [
    "elif (else if) checks another condition if the previous if is False"
   ]
  },
  {
   "cell_type": "code",
   "execution_count": 6,
   "id": "029592b7",
   "metadata": {},
   "outputs": [
    {
     "name": "stdout",
     "output_type": "stream",
     "text": [
      "Equal\n"
     ]
    }
   ],
   "source": [
    "x = 10\n",
    "\n",
    "if x< 5:\n",
    "    print(\"small\")\n",
    "    \n",
    "elif x == 10:\n",
    "    print(\"Equal\")\n",
    "    \n",
    "else:\n",
    "    print(\"large\")"
   ]
  },
  {
   "cell_type": "markdown",
   "id": "d7873d5b",
   "metadata": {},
   "source": [
    "**13. What is the difference between for and while loops**"
   ]
  },
  {
   "cell_type": "markdown",
   "id": "930ca9ea",
   "metadata": {},
   "source": [
    "| **Loop Type** | **When to Use**                     | **Syntax**              |\n",
    "|---------------|--------------------------------------|--------------------------|\n",
    "| `for`         | Known number of iterations           | `for i in range(5):`     |\n",
    "| `while`       | Unknown number, depends on condition | `while condition:`       |"
   ]
  },
  {
   "cell_type": "markdown",
   "id": "5b6568ca",
   "metadata": {},
   "source": [
    "**14. Describe a scenario where a while loop is more suitable than a for loop.**"
   ]
  },
  {
   "cell_type": "markdown",
   "id": "c33cdbe2",
   "metadata": {},
   "source": [
    "Use a while loop when the number of iterations is unknown in advance\n",
    "\n",
    "**Example Scenario: User Login Attempt**\n",
    "\n",
    "Suppose you are asking a user to enter the correct password. You don’t know how many attempts the user will need, so you use a while loop."
   ]
  },
  {
   "cell_type": "code",
   "execution_count": 5,
   "id": "cf0e22d8",
   "metadata": {},
   "outputs": [
    {
     "name": "stdout",
     "output_type": "stream",
     "text": [
      "Enter password: Manish\n",
      "Enter password: Manish@3010\n",
      "Enter password: 1234\n"
     ]
    }
   ],
   "source": [
    "password = \"\"\n",
    "while password != \"1234\":\n",
    "    password = input(\"Enter password: \")"
   ]
  },
  {
   "cell_type": "markdown",
   "id": "276d8ae7",
   "metadata": {},
   "source": [
    "## Practical Questions"
   ]
  },
  {
   "cell_type": "markdown",
   "id": "6a1ac733",
   "metadata": {},
   "source": [
    "**1. Write a Python program to print \"Hello, World!**"
   ]
  },
  {
   "cell_type": "code",
   "execution_count": 11,
   "id": "f0a36865",
   "metadata": {},
   "outputs": [
    {
     "name": "stdout",
     "output_type": "stream",
     "text": [
      "Hello, World!\n"
     ]
    }
   ],
   "source": [
    "print(\"Hello, World!\")"
   ]
  },
  {
   "cell_type": "markdown",
   "id": "bf8a5b67",
   "metadata": {},
   "source": [
    "**2. Write a Python program that displays your name and age.**"
   ]
  },
  {
   "cell_type": "code",
   "execution_count": 14,
   "id": "aa698a04",
   "metadata": {},
   "outputs": [
    {
     "name": "stdout",
     "output_type": "stream",
     "text": [
      "Name: Manish\n",
      "Age: 23\n"
     ]
    }
   ],
   "source": [
    "Name = \"Manish\"\n",
    "Age = 23\n",
    "print(\"Name:\", Name)\n",
    "print(\"Age:\", Age)"
   ]
  },
  {
   "cell_type": "markdown",
   "id": "57da27af",
   "metadata": {},
   "source": [
    "**3. Write code to print all the pre-defined keywords in Python using the keyword library.**"
   ]
  },
  {
   "cell_type": "code",
   "execution_count": 16,
   "id": "cbd62a89",
   "metadata": {},
   "outputs": [
    {
     "name": "stdout",
     "output_type": "stream",
     "text": [
      "['False', 'None', 'True', '__peg_parser__', 'and', 'as', 'assert', 'async', 'await', 'break', 'class', 'continue', 'def', 'del', 'elif', 'else', 'except', 'finally', 'for', 'from', 'global', 'if', 'import', 'in', 'is', 'lambda', 'nonlocal', 'not', 'or', 'pass', 'raise', 'return', 'try', 'while', 'with', 'yield']\n"
     ]
    }
   ],
   "source": [
    "import keyword\n",
    "print(keyword.kwlist)"
   ]
  },
  {
   "cell_type": "markdown",
   "id": "609452e4",
   "metadata": {},
   "source": [
    "**4. Write a program that checks if a given word is a Python keyword.**"
   ]
  },
  {
   "cell_type": "code",
   "execution_count": 20,
   "id": "1e97eeca",
   "metadata": {},
   "outputs": [
    {
     "name": "stdout",
     "output_type": "stream",
     "text": [
      "It is a python keyword.\n"
     ]
    }
   ],
   "source": [
    "import keyword\n",
    "\n",
    "word = \"for\"\n",
    "\n",
    "if keyword.iskeyword(word):\n",
    "    print(\"It is a python keyword.\")\n",
    "else:\n",
    "    print(\"It is not a python keyword.\")"
   ]
  },
  {
   "cell_type": "markdown",
   "id": "36763995",
   "metadata": {},
   "source": [
    "**5. Create a list and tuple in Python, and demonstrate how attempting to change an element works differently\n",
    "for each.**"
   ]
  },
  {
   "cell_type": "code",
   "execution_count": 12,
   "id": "67e5a119",
   "metadata": {},
   "outputs": [
    {
     "name": "stdout",
     "output_type": "stream",
     "text": [
      "Modified list: [100, 2, 3]\n",
      "Error when modifying tuple: 'tuple' object does not support item assignment\n"
     ]
    }
   ],
   "source": [
    "# List (mutable)\n",
    "\n",
    "my_list = [1, 2, 3]\n",
    "my_list[0] = 100\n",
    "print(\"Modified list:\", my_list)\n",
    "\n",
    "# Tuple (immutable)\n",
    "\n",
    "my_tuple = (1, 2, 3)\n",
    "try:\n",
    "    my_tuple[0] = 100\n",
    "except TypeError as e:\n",
    "    print(\"Error when modifying tuple:\", e)\n"
   ]
  },
  {
   "cell_type": "markdown",
   "id": "eba39c5a",
   "metadata": {},
   "source": [
    "**6. Write a function to demonstrate the behavior of mutable and immutable arguments.**"
   ]
  },
  {
   "cell_type": "code",
   "execution_count": 11,
   "id": "602e6a7a",
   "metadata": {},
   "outputs": [
    {
     "name": "stdout",
     "output_type": "stream",
     "text": [
      "(11, [1, 2, 3, 4])\n",
      "x after function: 10\n",
      "y after function: [1, 2, 3, 4]\n"
     ]
    }
   ],
   "source": [
    "def modify(a, b):\n",
    "    a += 1       # int is immutable\n",
    "    b.append(4)  # list is mutable\n",
    "    return a, b\n",
    "\n",
    "x = 10\n",
    "y = [1, 2, 3]\n",
    "print(modify(x, y))\n",
    "print(\"x after function:\", x)\n",
    "print(\"y after function:\", y)\n"
   ]
  },
  {
   "cell_type": "markdown",
   "id": "938dfe8b",
   "metadata": {},
   "source": [
    "**7. Write a program that performs basic arithmetic operations on two user-input numbers.**"
   ]
  },
  {
   "cell_type": "code",
   "execution_count": 10,
   "id": "b5a511a3",
   "metadata": {},
   "outputs": [
    {
     "name": "stdout",
     "output_type": "stream",
     "text": [
      "Enter first number: 23\n",
      "Enter second number: 3\n",
      "Addition: 26\n",
      "Subtraction: 20\n",
      "Multiplication: 69\n",
      "Division: 7.666666666666667\n"
     ]
    }
   ],
   "source": [
    "a = int(input(\"Enter first number: \"))\n",
    "b = int(input(\"Enter second number: \"))\n",
    "\n",
    "print(\"Addition:\", a + b)\n",
    "print(\"Subtraction:\", a - b)\n",
    "print(\"Multiplication:\", a * b)\n",
    "print(\"Division:\", a / b)\n"
   ]
  },
  {
   "cell_type": "markdown",
   "id": "1cd3932e",
   "metadata": {},
   "source": [
    "**8. Write a program to demonstrate the use of logical operators.**"
   ]
  },
  {
   "cell_type": "code",
   "execution_count": 9,
   "id": "2cfefe0f",
   "metadata": {},
   "outputs": [
    {
     "name": "stdout",
     "output_type": "stream",
     "text": [
      "a and b: False\n",
      "a or b: True\n",
      "not a: False\n"
     ]
    }
   ],
   "source": [
    "a = True\n",
    "b = False\n",
    "\n",
    "print(\"a and b:\", a and b)\n",
    "print(\"a or b:\", a or b)\n",
    "print(\"not a:\", not a)\n"
   ]
  },
  {
   "cell_type": "markdown",
   "id": "c9bbe59e",
   "metadata": {},
   "source": [
    "**9. Write a Python program to convert user input from string to integer, float, and boolean types.**"
   ]
  },
  {
   "cell_type": "code",
   "execution_count": 8,
   "id": "d7f2b17a",
   "metadata": {},
   "outputs": [
    {
     "name": "stdout",
     "output_type": "stream",
     "text": [
      "Enter a number: 10\n",
      "As integer: 10\n",
      "As float: 10.0\n",
      "As boolean: True\n"
     ]
    }
   ],
   "source": [
    "s = input(\"Enter a number: \")\n",
    "print(\"As integer:\", int(s))\n",
    "print(\"As float:\", float(s))\n",
    "print(\"As boolean:\", bool(s))"
   ]
  },
  {
   "cell_type": "markdown",
   "id": "fe14e478",
   "metadata": {},
   "source": [
    "**10. Write code to demonstrate type casting with list elements.**"
   ]
  },
  {
   "cell_type": "code",
   "execution_count": 7,
   "id": "4d90bb13",
   "metadata": {},
   "outputs": [
    {
     "name": "stdout",
     "output_type": "stream",
     "text": [
      "[1, 2, 3]\n"
     ]
    }
   ],
   "source": [
    "str_list = [\"1\", \"2\", \"3\"]\n",
    "int_list = list(map(int, str_list))\n",
    "print(int_list)"
   ]
  },
  {
   "cell_type": "markdown",
   "id": "f59b54fe",
   "metadata": {},
   "source": [
    "**11. Write a program that checks if a number is positive, negative, or zero.**"
   ]
  },
  {
   "cell_type": "code",
   "execution_count": 6,
   "id": "ff058a2f",
   "metadata": {},
   "outputs": [
    {
     "name": "stdout",
     "output_type": "stream",
     "text": [
      "Enter a number: 3\n",
      "Positive\n"
     ]
    }
   ],
   "source": [
    "num = int(input(\"Enter a number: \"))\n",
    "\n",
    "if num > 0:\n",
    "    print(\"Positive\")\n",
    "elif num == 0:\n",
    "    print(\"Zero\")\n",
    "else:\n",
    "    print(\"Negative\")\n"
   ]
  },
  {
   "cell_type": "markdown",
   "id": "abb0db00",
   "metadata": {},
   "source": [
    "**12. Write a for loop to print numbers from 1 to 10.**"
   ]
  },
  {
   "cell_type": "code",
   "execution_count": 5,
   "id": "633463c6",
   "metadata": {},
   "outputs": [
    {
     "name": "stdout",
     "output_type": "stream",
     "text": [
      "1\n",
      "2\n",
      "3\n",
      "4\n",
      "5\n",
      "6\n",
      "7\n",
      "8\n",
      "9\n",
      "10\n"
     ]
    }
   ],
   "source": [
    "for i in range(1, 11):\n",
    "    print(i)\n"
   ]
  },
  {
   "cell_type": "markdown",
   "id": "be6feb0a",
   "metadata": {},
   "source": [
    "**13. Write a Python program to find the sum of all even numbers between 1 and 50.**"
   ]
  },
  {
   "cell_type": "code",
   "execution_count": 4,
   "id": "93e73696",
   "metadata": {},
   "outputs": [
    {
     "name": "stdout",
     "output_type": "stream",
     "text": [
      "Sum of even numbers: 650\n"
     ]
    }
   ],
   "source": [
    "total = 0\n",
    "for i in range(1, 51):\n",
    "    if i % 2 == 0:\n",
    "        total += i\n",
    "print(\"Sum of even numbers:\", total)\n"
   ]
  },
  {
   "cell_type": "markdown",
   "id": "27d54f83",
   "metadata": {},
   "source": [
    "**14. Write a program to reverse a string using a while loop.**"
   ]
  },
  {
   "cell_type": "code",
   "execution_count": 3,
   "id": "c6e1a3b2",
   "metadata": {},
   "outputs": [
    {
     "name": "stdout",
     "output_type": "stream",
     "text": [
      "Reversed string:   hsinaM\n"
     ]
    }
   ],
   "source": [
    "s = \"Manish\"\n",
    "reverse_s = \" \"\n",
    "i = len(s) - 1\n",
    "\n",
    "while i >= 0:\n",
    "    reverse_s = reverse_s + s[i]\n",
    "    i = i - 1\n",
    "    \n",
    "print(\"Reversed string: \", reverse_s)"
   ]
  },
  {
   "cell_type": "markdown",
   "id": "553d5011",
   "metadata": {},
   "source": [
    "**15. Write a Python program to calculate the factorial of a number provided by the user using a while loop.**"
   ]
  },
  {
   "cell_type": "code",
   "execution_count": 2,
   "id": "a8cc060c",
   "metadata": {},
   "outputs": [
    {
     "name": "stdout",
     "output_type": "stream",
     "text": [
      "Enter the number: 5\n",
      "factorial:  120\n"
     ]
    }
   ],
   "source": [
    "num = int(input(\"Enter the number: \"))\n",
    "fact = 1\n",
    "\n",
    "while num > 0:\n",
    "    fact  = fact * num\n",
    "    num = num - 1\n",
    "    \n",
    "print(\"factorial: \", fact)"
   ]
  },
  {
   "cell_type": "code",
   "execution_count": null,
   "id": "35d29e68",
   "metadata": {},
   "outputs": [],
   "source": []
  }
 ],
 "metadata": {
  "kernelspec": {
   "display_name": "Python 3 (ipykernel)",
   "language": "python",
   "name": "python3"
  },
  "language_info": {
   "codemirror_mode": {
    "name": "ipython",
    "version": 3
   },
   "file_extension": ".py",
   "mimetype": "text/x-python",
   "name": "python",
   "nbconvert_exporter": "python",
   "pygments_lexer": "ipython3",
   "version": "3.9.13"
  }
 },
 "nbformat": 4,
 "nbformat_minor": 5
}
